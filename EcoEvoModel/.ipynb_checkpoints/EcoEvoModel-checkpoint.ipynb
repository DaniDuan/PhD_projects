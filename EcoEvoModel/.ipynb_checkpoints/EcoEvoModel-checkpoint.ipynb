{
 "cells": [
  {
   "cell_type": "markdown",
   "metadata": {},
   "source": [
    "# Notes for adding evolutionary perspective in EcoModel\n",
    "\n",
    "Rapid evolution alleviates negative effect of deterministic ecological process on bacterial diversity at high temps.  "
   ]
  },
  {
   "attachments": {},
   "cell_type": "markdown",
   "metadata": {},
   "source": [
    "## Eco-evo model or metabolic model? \n",
    "\n",
    "### Eco-evo ([trait based](https://www.sciencedirect.com/science/article/pii/S0966842X19301581?via%3Dihub))\n",
    "\n",
    "- McArther con-res deterministic in nature!!! .\n",
    "- Can add in metabolic adaptation for temporal variation of traits.\n",
    "\n",
    "### Metabolic model \n",
    "\n",
    "- require extensive curation (can't imagine how to parameterize, how many people mapped the metabolic uptake and transformation of microbes??? don't trust anything related or similar to PICRUSt estimation)\n",
    "\n",
    "⭐⭐⭐ possibility for intergrating with ecological models ⭐⭐⭐"
   ]
  },
  {
   "cell_type": "markdown",
   "metadata": {},
   "source": [
    "## The ecological side\n",
    "\n",
    "[LV](https://onlinelibrary.wiley.com/doi/full/10.1111/ele.14078)\n",
    "\n",
    "Consumer-Resource dynamics [$^{[1]}$](https://doi.org/10.1016/0040-5809(70)90039-0)[$^{[2]}$](https://journals.plos.org/ploscompbiol/article?id=10.1371/journal.pcbi.1006793)[$^{[3]}$](https://journals.plos.org/ploscompbiol/article?id=10.1371/journal.pcbi.1009584)[$^{[4]}$](https://journals.aps.org/prl/abstract/10.1103/PhysRevLett.125.048101#fulltext):\n",
    "\\begin{align}\n",
    "& \\frac{dC_i}{dt} = C_i \\left((1-l_i) \\sum_\\alpha u_{i\\alpha}R_\\alpha - m_i \\right)\\\\\n",
    "& \\frac{dR_\\alpha}{dt} = \\rho_\\alpha(R_\\alpha) - \\sum_i C_iu_{i\\alpha}R_\\alpha + \\sum_{i\\beta }C_il_iD^i_{\\alpha\\beta}u_{i\\beta}R_\\beta\n",
    "\\end{align}\n",
    "Bacteria feeding on self-renewing resources: function for $\\rho_\\alpha = \\frac{r_\\alpha}{\\kappa_\\alpha}R_\\alpha (\\kappa_\\alpha - R_\\alpha)$"
   ]
  },
  {
   "cell_type": "markdown",
   "metadata": {},
   "source": [
    "| Parameter symbol | Parameter name | Units |\n",
    "|---|---|---|\n",
    "| $C_i$ | abundance of consumer i | mass |\n",
    "| $R_\\alpha$ | abundance of resource $\\alpha$ | mass |\n",
    "| $u_{i\\alpha}$ | uptake preference of resource $\\alpha$ by i | 1/mass* time |\n",
    "| $m_i$ | maintenance cost of consumer i | 1/time |\n",
    "| $l_i$ | total inefficiency of consumer i | - |\n",
    "| $D^i_{\\alpha \\beta}$ | metabolic transformation | - |\n",
    "| $\\rho_\\alpha$ | resource supply function of $\\alpha$ | mass/time |"
   ]
  },
  {
   "cell_type": "markdown",
   "metadata": {},
   "source": [
    "## Evolution for ecological timescale\n",
    "\n",
    "- [Mechanisms for eco-evolutionary feedbacks]( https://doi.org/10.1111/1365-2435.13241) - Evolution of traits \n",
    "![Mechanisms for eco-evolutionary feedbacks](https://besjournals.onlinelibrary.wiley.com/cms/asset/b37f8f28-f65b-46f8-8021-32478c9abb57/fec13241-fig-0006-m.jpg)\n",
    "\n",
    "- [Coexistence with eco-evo](https://onlinelibrary.wiley.com/doi/full/10.1111/ele.12813): ecological & evolutionary stability\n",
    "\n",
    "Further readings: Reviews on [adaptive dynamics](https://doi.org/10.1098/rstb.2012.0081); relation to [diversity](https://www.mdpi.com/2073-4425/11/12/1433); and [modelling adaptation to different envirnmental changes](https://onlinelibrary.wiley.com/doi/10.1111/eva.12127)"
   ]
  },
  {
   "cell_type": "markdown",
   "metadata": {},
   "source": [
    "## What I need to consider\n",
    "\n",
    "### Adaptation to temperature\n",
    "\n",
    "* genetic diversity ([fitness trait value distribution with environment](https://doi.org/10.1098/rstb.2019.0453))\n",
    "\n",
    "* Higher temperature faster evolution \n",
    "\n",
    "* [evolutionary primary effect](https://www.nature.com/articles/s41396-020-00755-3) - pre-adaptated species\n",
    "\n",
    "* frequency-dependent selection??? (whatever that is, need to read)\n",
    "\n",
    "### Coevolution - correlation structure of resource preferences and metabolic products\n",
    "\n",
    "1. towards mutualism (with [cheaters](https://www.journals.uchicago.edu/doi/full/10.1086/717865))\n",
    "2. [metabolically cohesive microbial consortia](https://doi.org/10.1098/rstb.2019.0245)\n",
    "3. evolution vs. species interaction in a community\n",
    "\n",
    "### Others\n",
    "\n",
    "1. rate-yield trade-off: leakage should increase with temp\n",
    "2. the thermodynamic structure of metabolic transformation (second law)"
   ]
  }
 ],
 "metadata": {
  "kernelspec": {
   "display_name": "Julia 1.7.3",
   "language": "julia",
   "name": "julia-1.7"
  },
  "language_info": {
   "file_extension": ".jl",
   "mimetype": "application/julia",
   "name": "julia",
   "version": "1.7.3"
  },
  "latex_envs": {
   "LaTeX_envs_menu_present": true,
   "autoclose": false,
   "autocomplete": true,
   "bibliofile": "biblio.bib",
   "cite_by": "apalike",
   "current_citInitial": 1,
   "eqLabelWithNumbers": true,
   "eqNumInitial": 1,
   "hotkeys": {
    "equation": "Ctrl-E",
    "itemize": "Ctrl-I"
   },
   "labels_anchors": false,
   "latex_user_defs": false,
   "report_style_numbering": false,
   "user_envs_cfg": false
  }
 },
 "nbformat": 4,
 "nbformat_minor": 4
}
