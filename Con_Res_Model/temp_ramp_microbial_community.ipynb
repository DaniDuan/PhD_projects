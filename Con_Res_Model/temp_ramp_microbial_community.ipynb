{
 "cells": [
  {
   "cell_type": "markdown",
   "metadata": {},
   "source": [
    "# Impacts of changing temperature on pairwise species interactions\n",
    "\n",
    "Danica"
   ]
  },
  {
   "cell_type": "markdown",
   "metadata": {},
   "source": [
    "## Questions\n",
    "\n",
    "1) Can the effective LV approximation capture the temperature dependent species dynamics in MiCRM?  \n",
    "\n",
    "2) What mechanisms drive the impacts of temperature on pairwise species interactions?"
   ]
  },
  {
   "cell_type": "markdown",
   "metadata": {},
   "source": [
    "## The Microbial Community Model\n",
    "\n",
    "\\begin{equation}\\label{eq:MiCRM_C}\n",
    "dC_i/dt = C_i\\Bigl(\\sum_{\\alpha=1}^{M}u_{i\\alpha}(T)R_\\alpha(1-\\sum_{\\beta=1}^{M}l_{\\alpha \\beta}) - m_i(T)\\Bigl)\n",
    "\\end{equation}\n",
    "\n",
    "\\begin{equation}\\label{eq:MiCRM_R}\n",
    "dR_\\alpha/dt = \\rho_\\alpha - \\sum_{i=1}^{N}\\Bigl(C_iu_{i\\alpha}(T)R_\\alpha-\\sum_{\\beta =1}^{M}C_iu_{i\\beta}(T)R_\\beta l_{\\beta \\alpha}\\Bigl)\n",
    "\\end{equation}\n",
    "\n",
    "| Parameter symbol | Parameter name | Units | Initial value |\n",
    "|---|---|---|---|\n",
    "| $M$ | Number of resources | individuals  | ? |\n",
    "| $N$ | Number of species | individuals  | 3 |\n",
    "| $C_i$ | Bacteria population of species i | mass/volume | Obs |\n",
    "| $R_\\alpha$ | Concentration of resource $\\alpha$ | mass/volume | ? |\n",
    "| $u_{i\\alpha}$ | Uptake of resource $\\alpha$ by species i | 1/(mass/volume)* time | Temperature dependant |\n",
    "| $m_i$ | Respiration of species i | 1/time | Temperature dependant |\n",
    "| $l_{\\alpha \\beta}$ | Leakage/transformation fraction | - | ? |\n",
    "| $\\rho_\\alpha$ | Rupply of resource $\\alpha$ | mass/volume* time | ? |\n"
   ]
  },
  {
   "cell_type": "markdown",
   "metadata": {},
   "source": [
    "### Getting effective LV model\n",
    "\n"
   ]
  },
  {
   "cell_type": "markdown",
   "metadata": {},
   "source": [
    "Following [Marsland et al. (2020)](https://www.nature.com/articles/s41598-020-60130-2), here assuming resource dynamics reaches equilibrium faster than species biomass by setting $dR_\\alpha/dt = 0$, the equilibrium resource concentration $\\hat{R_\\alpha}$ is a function of $C_j$. Inserting $\\hat{R_\\alpha}(\\{C_j\\})$ in to biomass dynamics (Equation \\ref{eq:MiCRM_C}), then approximate around $C_j = \\hat{C_j}$ using the first order of Taylor expansion: \n",
    "\n",
    "\\begin{align*}\n",
    "\\frac{dC_i}{dt} & = C_i \\left(\\sum_\\alpha u_{i\\alpha}(1-l_\\alpha)\\hat{R_\\alpha}(\\{C_j\\}) - m_i\\right) \\\\\n",
    "& \\approx C_i \\Bigl[\\sum_\\alpha u_{i\\alpha}(1-l_\\alpha) \\left(\\hat{R_\\alpha} + \\sum_j \\frac{\\partial \\hat{R_\\alpha}}{\\partial C_j}(C_j - \\hat{C_j}) \\right) - m_i\\Bigl] \\\\\n",
    "& = C_i(r_i+\\sum_j \\alpha_{ij}C_j)\n",
    "\\end{align*}\n",
    "\n",
    "Where\n",
    "\\begin{align} \\label{eq:alpha}\n",
    "& \\alpha_{ij} = \\sum_\\alpha u_{i\\alpha}(1 - l_\\alpha)\\frac{\\partial \\hat{R_\\alpha}}{\\partial C_j} \\\\\n",
    "& r_i = \\sum_\\alpha u_{i\\alpha}(1-l_\\alpha)\\hat{R_\\alpha} -\\sum_j \\alpha_{ij} \\hat{C_j} - m_i\n",
    "\\end{align}\n"
   ]
  },
  {
   "cell_type": "markdown",
   "metadata": {},
   "source": [
    "When resources are at equilibrium, setting equation \\ref{eq:MiCRM_R} to 0: \n",
    "\\begin{equation*}\n",
    "\\rho_\\alpha - (\\sum_i C_iu_{i\\alpha}\\hat{R_\\alpha} - \\sum_{i\\beta}C_iu_{i\\beta}\\hat{R_\\beta}l_{\\beta \\alpha}) = 0\n",
    "\\end{equation*}\n",
    "\n",
    "Taking partial derivative $\\frac{\\partial \\hat{R}}{\\partial C_j}$ of the above equation then rearrange. As the resource supply is independent of species and resource dynamics, the partial derivative of $\\rho$ would be zero, therefore erased: \n",
    "\\begin{align*}\n",
    "u_{j\\alpha}\\hat{R_\\alpha} + \\sum_i C_i u_{i\\alpha} \\frac{\\partial \\hat{R_{\\alpha}}}{\\partial C_j} - \\sum_\\beta u_{j\\beta}\\hat{R_{\\beta}}l_{\\beta \\alpha} - \\sum_{i\\beta} C_iu_{i\\beta}l_{\\beta \\alpha} \\frac{\\partial \\hat{R_{\\beta}}}{\\partial C_j} = 0 \\\\\n",
    "\\sum_i C_iu_{i\\alpha} \\frac{\\partial \\hat{R_{\\alpha}}}{\\partial C_j} - \\sum_{i\\beta} C_iu_{i\\beta}l_{\\beta \\alpha} \\frac{\\partial \\hat{R_{\\beta}}}{\\partial C_j} = -(u_{j\\alpha}\\hat{R_\\alpha} - \\sum_\\beta u_{j\\beta}\\hat{R_{\\beta}}l_{\\beta \\alpha}) \\\\\n",
    "\\sum_{i\\beta}(\\delta_{\\beta \\alpha} - l_{\\beta \\alpha})C_iu_{i\\beta} \\frac{\\partial \\hat{R_{\\beta}}}{\\partial C_j} = -\\sum_\\beta (\\delta_{\\beta \\alpha} - l_{\\beta \\alpha})u_{j\\beta}\\hat{R_\\beta}\n",
    "\\end{align*}\n",
    "\n",
    "In which $\\delta_{\\alpha \\beta}$ is the Kronecker delta, meaning that: \n",
    "\\begin{equation*}\n",
    "\\delta_{\\alpha \\beta} = \n",
    "\\begin{cases}\n",
    "0,& \\text{if } \\alpha \\neq \\beta\\\\\n",
    "1,& \\text{if } \\alpha =\\beta\n",
    "\\end{cases}\n",
    "\\end{equation*}\n"
   ]
  },
  {
   "cell_type": "markdown",
   "metadata": {},
   "source": [
    "asign $L_{\\beta \\alpha} = \\delta_{\\beta \\alpha} - l_{\\beta \\alpha}$: \n",
    "\\begin{align*}\n",
    "\\begin{bmatrix}\n",
    "L_{11} & \\dots & L_{M1} \\\\\n",
    "\\vdots & \\ddots & \\\\\n",
    "L_{1M} & \\dots & L_{MM} \n",
    "\\end{bmatrix}\n",
    "\\begin{bmatrix}\n",
    "\\sum_i C_iu_{i1}\\frac{\\partial \\hat{R_1}}{\\partial C_j} \\\\ \\vdots \\\\ \\sum_i C_iu_{iM} \\frac{\\partial \\hat{R_M}}{\\partial C_j}\n",
    "\\end{bmatrix}\n",
    " &= -\n",
    "\\begin{bmatrix}\n",
    "L_{11} & \\dots & L_{M1} \\\\\n",
    "\\vdots & \\ddots & \\\\\n",
    "L_{1M} & \\dots & L_{MM} \n",
    "\\end{bmatrix}\n",
    "\\begin{bmatrix}\n",
    "u_{j1}\\hat{R_1} \\\\\n",
    "\\vdots \\\\\n",
    "u_{jM}\\hat{R_M}\n",
    "\\end{bmatrix} \n",
    "\\end{align*}\n",
    "\n",
    "Here as shown, the leakage matrix can be cancelled out, therefore for each $R_\\alpha$, there is: \n",
    "\\begin{equation}\n",
    "\\frac{\\partial \\hat{R_{\\alpha}}}{\\partial C_j} = - \\frac{u_{j\\alpha}\\hat{R_\\alpha}}{\\sum_i C_i u_{i\\alpha}}\n",
    "\\end{equation}\n",
    "\n",
    "Inserting this back into the interaction coefficient in equation \\ref{eq:alpha}: \n",
    "\\begin{align}\n",
    "\\alpha_{ij} &= \\sum_\\alpha u_{i \\alpha}(1-l_\\alpha)\\frac{\\partial \\hat{R_\\alpha}}{\\partial C_j} \\nonumber \\\\\n",
    "&= -\\sum_{\\alpha} \\frac{u_{i\\alpha}u_{j\\alpha}\\hat{R_\\alpha}(1-l_\\alpha)}{\\sum_i C_i u_{i\\alpha}}\n",
    "\\end{align}\n"
   ]
  },
  {
   "cell_type": "markdown",
   "metadata": {},
   "source": [
    "<span style=\"color:red\"> The problem here is that the leakage matrix is cancelled out, so the approximation of this version of MiCRM can only generate negative interspecies interactions, which relates only to resources consumption. Therefore for this approximation of species interaction, positive interactions (e.g. cross-feeding activities) cannot be considered. </span>"
   ]
  },
  {
   "cell_type": "markdown",
   "metadata": {},
   "source": [
    "#### Inserting temperature dependencies into a system with 2 species and 1 resource \n",
    "\\begin{align*}\n",
    "&\\frac{dC_i}{dt} = C_i(u_{i\\alpha}\\hat{R_\\alpha}(1-l_{\\alpha}) - R_i) \\\\\n",
    "&\\frac{dC_j}{dt} = C_j(u_{j\\alpha}\\hat{R_\\alpha}(1-l_{\\alpha}) - R_j) \\\\\n",
    "&\\frac{dR}{dt} = \\rho_\\alpha-(C_iu_{i\\alpha}+C_ju_{j\\alpha})\\hat{R_\\alpha}(1-l_{\\alpha\\alpha})\n",
    "\\end{align*}\n",
    "\n",
    "At resource equilibrium, setting resource dynamics (equation \\ref{eq:MiCRM_R}) to 0: \n",
    "\\begin{align}\n",
    "\\rho_\\alpha - \\sum_j C_j u_{j\\alpha}\\hat{R_\\alpha}(1- l_{\\alpha\\alpha}) = 0 \\nonumber \\\\\n",
    "u_{j\\alpha}\\hat{R_\\alpha} (1-l_{\\alpha\\alpha}) + \\sum_j C_j u_{j\\alpha} \\frac{\\partial \\hat{R_\\alpha}}{\\partial C_j} = 0 \\nonumber \\\\\n",
    "\\frac{\\partial \\hat{R_\\alpha}}{\\partial C_j} = -\\frac{u_{j\\alpha}\\hat{R_\\alpha}}{C_iu_{i\\alpha}+C_ju_{j\\alpha}}\n",
    "\\end{align}\n",
    "\n",
    "Inserting into $\\alpha_{ij}$ in equation \\ref{eq:alpha}:\n",
    "\\begin{align}\n",
    "\\alpha_{ij} & = \\sum_\\alpha u_{i\\alpha}(1 - l_\\alpha)\\frac{\\partial \\hat{R_\\alpha}}{\\partial C_j} \\nonumber \\\\\n",
    "& = -\\frac{u_{i\\alpha}u_{j\\alpha}(1-l_\\alpha)\\hat{R_\\alpha}}{C_iu_{i\\alpha}+ C_ju_{j\\alpha}}\n",
    "\\end{align}\n"
   ]
  },
  {
   "cell_type": "markdown",
   "metadata": {},
   "source": [
    "##### For temperature dependencies - using the Arrhenius\n",
    "\n",
    "\n",
    "\\begin{equation*}\n",
    "B = B_0 \\times {e^{\\frac{-E}{k}\\cdot\\Bigl(\\frac{1}{T} - \\frac{1}{T_r}\\Bigl)}}\n",
    "\\end{equation*}\n",
    "\n",
    "\n",
    "| Parameter symbol | Parameter name | Units | Initial value |\n",
    "|---|---|---|---|\n",
    "| $B$ | Normalisation constant | - | Obs |\n",
    "| $E$ | Activation energy | eV | Obs |\n",
    "| $k$ | Boltsmann constant | eV/K | $8.62$ $\\times 10^{-5}$ |\n",
    "| T | Temperature | K | 273.15-303.15 |\n",
    "| $T_r$| Reference temperature | K | 273.15 |"
   ]
  },
  {
   "cell_type": "markdown",
   "metadata": {},
   "source": [
    "Inserting the Arrhenius equation into the equation for $\\alpha$:\n",
    "\\begin{align}\n",
    "\\alpha_{ij} & = -\\frac{u_{i\\alpha}u_{j\\alpha}(1-l_\\alpha)\\hat{R_\\alpha}}{C_iu_{i\\alpha}+ C_ju_{j\\alpha}} \\nonumber \\\\ \n",
    "& = - \\frac{u_{i0}e^{-\\frac{E_{ui}}{k}(\\frac{1}{T} - \\frac{1}{T_r})}\\cdot u_{j0}e^{-\\frac{E_{uj}}{k}(\\frac{1}{T} - \\frac{1}{T_r})}\\cdot (1-l_\\alpha)\\hat{R_\\alpha}}{C_iu_{i0}e^{-\\frac{E_{ui}}{k}(\\frac{1}{T} - \\frac{1}{T_r})}+ C_j u_{j0}e^{-\\frac{E_{uj}}{k}(\\frac{1}{T} - \\frac{1}{T_r})}} \\nonumber \\\\\n",
    "& = - \\frac{(1-l_\\alpha)\\hat{R_\\alpha}u_{i0}u_{j0} \\cdot e^{(E_{ui}+E_{uj}) \\cdot \\Delta T}}{C_iu_{i0} \\cdot e^{E_{ui} \\cdot \\Delta T}+ C_j u_{j0} \\cdot e^{E_{uj} \\cdot \\Delta T}}\n",
    "\\end{align}, \n",
    "where $\\Delta T = -\\frac{1}{k}(\\frac{1}{T} - \\frac{1}{T_r})$. If assign the subset of equation containing species uptake as $f(\\Delta T)$: \n",
    "\\begin{equation*}\n",
    "f(\\Delta T) = \\frac{u_{i0}u_{j0} \\cdot e^{(E_{ui}+E_{uj}) \\cdot \\Delta T}}{C_iu_{i0} \\cdot e^{E_{ui} \\cdot \\Delta T}+ C_j u_{j0} \\cdot e^{E_{uj} \\cdot \\Delta T}}\n",
    "\\end{equation*}\n",
    "then break the sections within in equation for easier calculation, and denote each section as $A$, $B$, $C$. Therefore I have $ln(f(\\Delta T)) = lnA - ln(B+C)$. Approximating $lnf$ using the Taylor expension around $T= T_r$ ($\\Delta T = 0$): \n",
    "\\begin{equation}\n",
    "lnf \\approx ln(u_{i0}u_{j0}) - ln(C_iu_{i0} + C_ju_{j0}) + \\left(\\frac{dlnA}{d\\Delta T} - \\frac{dln(B+C)}{d\\Delta T}\\right) \\cdot \\Delta T\n",
    "\\end{equation}\n",
    "Here: \n",
    "\\begin{align*}\n",
    "\\because \n",
    "lnA &= ln(u_{i0}u_{j0}) + (E_{ui}+E_{uj})\\Delta T; \\\\\n",
    "\\frac{dlnA}{d\\Delta T} &= E_{ui} + E_{uj}; \\\\\n",
    "\\frac{dln(B+C)}{d\\Delta T} &\\buildrel \\rm T=T_r \\over = \\frac{B' + C'}{B_0+C_0},\\; B' \\buildrel \\rm T=T_r \\over = E_{ui} \\cdot B_0,\\; C' \\buildrel \\rm T=T_r \\over =E_{uj} \\cdot C_0 \\\\\n",
    "& = \\frac{E_{ui} \\cdot B_0 + E_{uj} \\cdot C_0}{B_0+C_0}\n",
    "\\end{align*}\n",
    "\\begin{equation*}\n",
    "\\therefore lnf \\approx ln(u_{i0}u_{j0}) - ln(C_iu_{i0} + C_ju_{j0}) + \\left( E_{ui} + E_{uj} - \\frac{C_iu_{i0}E_{ui}+C_ju_{j0}E_{uj}}{C_iu_{i0}+C_ju_{j0}} \\right) \\cdot \\Delta T\n",
    "\\end{equation*}\n",
    "\n",
    "Therefore, the temperature dependence of $\\alpha_{ij}$ for two species competing on one resource type is\n",
    "\\begin{align}\n",
    "\\alpha_{ij} & = -\\frac{u_{i0}u_{j0}(1-l_\\alpha)\\hat{R_\\alpha}}{C_iu_{i0}+C_ju_{j0}} \\cdot e^{E_{\\alpha_{ij}}\\Delta T}, \\\\\n",
    "\\text{where, } \\nonumber \\\\\n",
    "E_{\\alpha_{ij}} &= E_{ui}+E_{uj} - \\frac{C_iu_{i0}E_{ui}+C_ju_{j0}E_{uj}}{C_iu_{i0}+C_ju_{j0}}\n",
    "\\end{align}\n"
   ]
  },
  {
   "cell_type": "markdown",
   "metadata": {},
   "source": [
    "####  System with N species and M resources\n",
    "\n",
    "Here inserting temperature dependencies into the pairwise interaction coefficient of a system with N species and M resources. Denoting $ F_\\alpha = \\frac{u_{i\\alpha}u_{j\\alpha}\\hat{R_\\alpha}(1-l_\\alpha)}{\\sum_i C_i u_{i\\alpha}}$, \n",
    "\n",
    "\\begin{align*}\n",
    "ln(-\\alpha_{ij}) &= ln(\\sum_\\alpha F_\\alpha) \\\\ \n",
    "&\\approx ln \\sum_\\alpha F_{\\alpha 0} + \\frac{dln \\sum_\\alpha F_\\alpha}{d \\Delta T}\\Delta T \\\\ \n",
    "&= ln \\sum_\\alpha \\frac{u_{i\\alpha 0}u_{j\\alpha 0}\\hat{R_\\alpha}(1-l_\\alpha)}{\\sum_iC_iu_{i\\alpha0}} + \\frac{\\sum_\\alpha F_\\alpha '}{\\sum_\\alpha F_{\\alpha 0}} \\Delta T\\\\\n",
    "&= ln \\sum_\\alpha \\frac{u_{i\\alpha 0}u_{j\\alpha 0}\\hat{R_\\alpha}(1-l_\\alpha)}{\\sum_iC_iu_{i\\alpha0}} + \\frac{\\sum_\\alpha \\frac{u_{i\\alpha 0}u_{j\\alpha 0}\\hat{R_\\alpha}(1-l_\\alpha)[(E_{ui}+E_{uj})\\sum_iC_iu_{i\\alpha 0} - \\sum_i E_{ui}C_iu_{i\\alpha 0}]}{(\\sum_i C_i u_{i\\alpha})^2}}{\\sum_\\alpha \\frac{u_{i\\alpha 0}u_{j\\alpha 0}\\hat{R_\\alpha}(1-l_\\alpha)}{\\sum_iC_iu_{i\\alpha0}}} \\Delta T\n",
    "\\end{align*}\n",
    "\n",
    "\\begin{align}\n",
    "\\therefore\n",
    "\\alpha_{ij} &\\approx -\\sum_\\alpha \\frac{u_{i\\alpha 0}u_{j\\alpha 0}\\hat{R_\\alpha}(1-l_\\alpha)}{\\sum_iC_iu_{i\\alpha0}} \\cdot e^{E_{\\alpha_{ij}} \\Delta T} \\\\\n",
    "E_{\\alpha_{ij}} &= \\frac{\\sum_\\alpha \\frac{u_{i\\alpha 0}u_{j\\alpha 0}\\hat{R_\\alpha}(1-l_\\alpha)[(E_{ui}+E_{uj})\\sum_iC_iu_{i\\alpha 0} - \\sum_i E_{ui}C_iu_{i\\alpha 0}]}{(\\sum_i C_i u_{i\\alpha})^2}}{\\sum_\\alpha \\frac{u_{i\\alpha 0}u_{j\\alpha 0}\\hat{R_\\alpha}(1-l_\\alpha)}{\\sum_iC_iu_{i\\alpha0}}}\n",
    "\\end{align}\n"
   ]
  },
  {
   "cell_type": "markdown",
   "metadata": {},
   "source": [
    "## The chemostat MiCRM\n",
    "\n",
    "\\begin{align}\n",
    "& dC_i/dt = C_i\\Bigl(\\sum_{\\alpha=1}^{M}u_{i\\alpha}(T)R_\\alpha(1-\\sum_{\\beta=1}^{M}l^i_{\\alpha \\beta}) - m_i(T)\\Bigl)\n",
    "\\\\\n",
    "& \\frac{dR_\\alpha}{dt} = \\rho_\\alpha(R_\\alpha) - \\sum_i C_iu_{i\\alpha}(T)R_\\alpha + \\sum_{i\\beta }C_iu_{i\\beta}(T)l^i_{\\alpha\\beta}R_\\beta\n",
    "\\end{align}\n",
    "\n",
    "Here $\\rho$ is a function of resource concentration $R$: $\\rho_{\\alpha} = \\overline{\\rho}_{\\alpha} - \\omega_{\\alpha}R_{\\alpha}$"
   ]
  },
  {
   "cell_type": "markdown",
   "metadata": {},
   "source": [
    "### Getting effective LV model\n",
    "\n",
    "Same steps as previous, when resources are at equilibrium: \n",
    "\\begin{equation*}\n",
    "\\rho_\\alpha (R_\\alpha) - \\sum_i C_iu_{i\\alpha}\\hat{R_\\alpha} + \\sum_{i\\beta}C_iu_{i\\beta}\\hat{R_\\beta}l_{\\beta \\alpha} = 0\n",
    "\\end{equation*}\n",
    "\n",
    "Taking partial derivative $\\frac{\\partial \\hat{R}}{\\partial C_j}$ of the above equation, rearrange. In this chemostat version of MiCRM, resource and species dynamics contributes to the resource supply rate, therefore:\n",
    "\\begin{align*}\n",
    "\\sum_\\beta \\frac{\\partial \\rho_\\alpha}{\\partial \\hat{R_\\beta}}\\cdot \\frac{\\partial \\hat{R_\\beta}}{\\partial C_j} - u_{j\\alpha}\\hat{R_\\alpha} - \\sum_i C_i u_{i\\alpha} \\frac{\\partial \\hat{R_{\\alpha}}}{\\partial C_j} + \\sum_\\beta u_{j\\beta}\\hat{R_{\\beta}}l^j_{\\beta \\alpha} + \\sum_{i\\beta} C_iu_{i\\beta}l^i_{\\beta \\alpha} \\frac{\\partial \\hat{R_{\\beta}}}{\\partial C_j} = 0 \\\\\n",
    "\\left[\\sum_\\beta \\frac{\\partial \\rho_\\alpha}{\\partial \\hat{R_\\beta}} - \\sum_{i\\beta}(\\delta_{\\beta \\alpha} - l^i_{\\beta \\alpha})C_iu_{i\\beta}\\right] \\frac{\\partial \\hat{R_{\\beta}}}{\\partial C_j} =\\sum_\\beta (\\delta_{\\beta \\alpha} - l^j_{\\beta \\alpha})u_{j\\beta}\\hat{R_\\beta}\n",
    "\\end{align*}\n",
    "\n",
    "Assign $L_{\\beta \\alpha} = \\delta_{\\beta \\alpha} - l_{\\beta \\alpha}$, and $A_{\\alpha\\beta} = \\frac{\\partial \\rho_\\alpha}{\\partial \\hat{R_\\beta}} - \\sum_i L^i_{\\beta \\alpha}C_iu_{i\\beta}$: \n",
    "\\begin{equation*}\n",
    "\\sum_{\\beta} A_{\\alpha \\beta} \\frac{\\partial \\hat{R_{\\beta}}}{\\partial C_j} = \\sum_\\beta L^j_{\\beta \\alpha}u_{j\\beta}\\hat{R_\\beta}\n",
    "\\end{equation*}\n",
    "\n",
    "\\begin{align*}\n",
    "\\frac{\\partial \\hat{R}}{\\partial C_j} &= \\mathbf{A}^{-1} \\cdot \\mathbf{L} \\cdot \\vec{\\mathbf{UR}} \\\\\n",
    "&=\\begin{bmatrix} A_{11}^{-1} & \\dots & A_{1M}^{-1} \\\\ \\vdots & \\ddots & \\\\ A_{M1}^{-1} & \\dots & A_{MM}^{-1} \\end{bmatrix}\n",
    "\\begin{bmatrix} L^j_{11} & \\dots & L^j_{M1} \\\\ \\vdots & \\ddots & \\\\ L^j_{1M} & \\dots & L^j_{MM}  \\end{bmatrix}\n",
    "\\begin{bmatrix} u_{j1}\\hat{R_1} \\\\ \\vdots \\\\ u_{jM}\\hat{R_M} \\end{bmatrix} \\\\\n",
    "& = \\begin{bmatrix} A_{11}^{-1} & \\dots & A_{1M}^{-1} \\\\ \\vdots & \\ddots & \\\\ A_{M1}^{-1} & \\dots & A_{MM}^{-1} \\end{bmatrix} \n",
    "\\begin{bmatrix} \\sum_\\gamma L^j_{\\gamma 1}u_{j\\gamma}\\hat{R_\\gamma} \\\\ \\vdots \\\\\n",
    "\\sum_\\gamma L^j_{\\gamma M}u_{j\\gamma}\\hat{R_\\gamma} \\end{bmatrix} \\\\\n",
    "& = \\begin{bmatrix} \\sum_{\\beta \\gamma}A_{1\\beta }^{-1} L^j_{\\gamma \\beta }u_{j\\gamma}\\hat{R_\\gamma} \\\\ \\vdots \\\\ \\sum_{\\beta \\gamma}A_{M\\beta }^{-1} L^j_{\\gamma \\beta }u_{j\\gamma}\\hat{R_\\gamma} \\end{bmatrix}\n",
    "\\end{align*}\n",
    "\n",
    "Therefore for each resource type $\\alpha$, there is: \n",
    "\\begin{equation*}\n",
    "\\frac{\\partial \\hat{R_{\\alpha}}}{\\partial C_j} = \\sum_{\\beta \\gamma} A_{\\alpha\\beta}^{-1} L^j_{\\gamma \\beta} u_{j \\gamma} \\hat{R_\\gamma}\n",
    "\\end{equation*}\n",
    "Inserting this back into Equation \\ref{eq:alpha} getting the interaction coefficient: \n",
    "\\begin{align}\n",
    "\\alpha_{ij} &= \\sum_\\alpha u_{i \\alpha}(1-l^i_\\alpha)\\frac{\\partial \\hat{R_\\alpha}}{\\partial C_j} \\nonumber \\\\\n",
    "& = \\sum_{\\alpha \\beta \\gamma} u_{i \\alpha}(1-l^i_\\alpha)A_{\\alpha \\beta}^{-1} L^j_{\\gamma \\beta} u_{j\\gamma} \\hat{R_\\gamma} \\label{eq:alpha_chemo}\\\\\n",
    "\\end{align}"
   ]
  },
  {
   "cell_type": "markdown",
   "metadata": {},
   "source": [
    "### Temperature dependencies\n",
    "\n",
    "In order to obtain the temperature dependency of pairwise species interaction, I've tried to insert the Arrhenius equation for species' resource uptake into the $\\mathbf{A}$ matrix, as this is further inverted for the effective interaction coefficient (Equation \\ref{eq:alpha_chemo}). \n",
    "\n",
    "\\begin{align*}\n",
    "A_{\\alpha\\beta} &= \\frac{\\partial \\rho_\\alpha}{\\partial \\hat{R_\\beta}} - \\sum_i L^i_{\\beta \\alpha}C_iu_{i\\beta} \\\\\n",
    "&\\approx \\frac{\\partial \\rho_\\alpha}{\\partial \\hat{R_\\beta}} - \\sum_i L^i_{\\beta \\alpha}C_iu_{i\\beta 0} \\cdot e^{\\frac{\\sum_i E_{ui} L^i_{\\beta \\alpha}C_iu_{i\\beta 0}}{\\sum_i L^i_{\\beta \\alpha}C_iu_{i\\beta 0}} \\Delta T}\n",
    "\\end{align*}\n",
    "\n",
    "<span style=\"color:red\">\n",
    "Current problems: \n",
    "    \n",
    "1. To obtain the Arrhenius-like equation for $\\mathbf{A}$ I performed another Taylor approximation, the effective interaction now contains too much approximation. \n",
    "\n",
    "2. I need to invert this very complicated $\\mathbf{A}$ matrix to get the temperature dependent effective interaction coefficient, which makes the equation almost impossible to interpret biological meanings. \n",
    "</span>\n",
    "\n",
    "<span style=\"color:blue\">\n",
    "!!! Main question to ask here: \n",
    "Is there another way to avoid approximating too much? For example, to perform only one approximation to the overall thing with the temperature function implanted? \n",
    "</span>"
   ]
  }
 ],
 "metadata": {
  "kernelspec": {
   "display_name": "Python 3",
   "language": "python",
   "name": "python3"
  },
  "language_info": {
   "codemirror_mode": {
    "name": "ipython",
    "version": 3
   },
   "file_extension": ".py",
   "mimetype": "text/x-python",
   "name": "python",
   "nbconvert_exporter": "python",
   "pygments_lexer": "ipython3",
   "version": "3.8.3"
  },
  "latex_envs": {
   "LaTeX_envs_menu_present": true,
   "autoclose": false,
   "autocomplete": true,
   "bibliofile": "biblio.bib",
   "cite_by": "apalike",
   "current_citInitial": 1,
   "eqLabelWithNumbers": true,
   "eqNumInitial": 1,
   "hotkeys": {
    "equation": "Ctrl-E",
    "itemize": "Ctrl-I"
   },
   "labels_anchors": false,
   "latex_user_defs": false,
   "report_style_numbering": false,
   "user_envs_cfg": false
  }
 },
 "nbformat": 4,
 "nbformat_minor": 4
}
