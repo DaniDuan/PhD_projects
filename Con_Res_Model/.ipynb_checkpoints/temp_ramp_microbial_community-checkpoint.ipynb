{
 "cells": [
  {
   "cell_type": "markdown",
   "metadata": {},
   "source": [
    "# Impacts of changing temperature on microbial community structure and functioning\n",
    "\n",
    "Danica"
   ]
  },
  {
   "cell_type": "markdown",
   "metadata": {},
   "source": [
    "## The Lotka–Volterra model\n"
   ]
  },
  {
   "cell_type": "markdown",
   "metadata": {},
   "source": [
    "\\begin{equation}\n",
    "\\frac{1}{C_i}\\frac{dC_i}{dt}  =r_i(T) + \\alpha_{ii}(T)C_i+\\sum_{j \\neq i}^N \\alpha_{ij}(T)C_j\n",
    "\\end{equation}"
   ]
  },
  {
   "cell_type": "markdown",
   "metadata": {},
   "source": [
    "\n",
    "| Parameter symbol | Parameter name | Initial value |\n",
    "|---|---|---|\n",
    "| $N$ | Number of species | 3 |\n",
    "| $C_i$ | Species biomass | Obs |\n",
    "| $r_i$ | Maximum growth rate | Temperature dependent |\n",
    "| $\\alpha_{ii}$ | Intraspecies interaction | Temperature dependent |\n",
    "| $\\alpha_{ij}$ | Interspecies interaction | Temperature dependant |\n",
    "\n",
    "For positive interaction: $\\alpha_{ij}>0$; for negative interaction: $\\alpha_{ij}<0$"
   ]
  },
  {
   "cell_type": "markdown",
   "metadata": {},
   "source": [
    "### At steady state\n",
    "#### 1 species\n",
    "\n",
    "\\begin{equation*}\n",
    "C_i = \\frac{r_i}{-\\alpha_{ii}}\n",
    "\\end{equation*}\n",
    "\n",
    "Carrying capacity $K_i = r_i/\\alpha_{ii}$\n",
    "\n",
    "#### 2 species\n",
    "\n",
    "\\begin{equation*}\n",
    "\\frac{dC_i}{dt}  =C_i(r_i + \\alpha_{ii}C_i +\\alpha C_j) ; \\frac{dC_j}{dt}  =C_j(r_j + \\alpha_{jj}C_j +\\alpha C_i)\n",
    "\\end{equation*}\n",
    "\n",
    "\\begin{equation*}\n",
    "C_i = -\\frac{\\alpha_{jj}r_i + \\alpha r_j}{\\alpha_{ii}\\alpha_{jj} - \\alpha^2}\n",
    "\\end{equation*}\n",
    "\n",
    "#### Multiple species\n",
    "\n",
    "\\begin{equation*}\n",
    "C_i = -\\frac{r_i + \\sum_{j \\neq i}^N \\alpha_{ij}C_j}{\\alpha_{ii}}\n",
    "\\end{equation*}"
   ]
  },
  {
   "cell_type": "markdown",
   "metadata": {},
   "source": [
    "### 2 species system\n",
    "- following the paper (Strobeck, C., 1973. N species competition. Ecology, 54(3), pp.650-654.)\n",
    "\n",
    "Condition for coexistence: \n",
    "\\begin{align*}\n",
    "\\begin{bmatrix} r_i & -\\alpha_{ij} \\\\ r_j & -\\alpha_{jj} \\end{bmatrix}  > 0 ,\n",
    "\\begin{bmatrix} -\\alpha_{ii} & r_i \\\\ -\\alpha_{ji} & r_j \\end{bmatrix} > 0\n",
    "\\end{align*}"
   ]
  },
  {
   "cell_type": "markdown",
   "metadata": {},
   "source": [
    "\n",
    "### 3 species system\n",
    "\n",
    "\\begin{align}\n",
    "\\frac{dC_i}{dt} = C_i(r_i + \\alpha_{ii}C_i + \\alpha_{ij}C_j + \\alpha_{ik}C_k) \\\\\n",
    "\\frac{dC_j}{dt} = C_j(r_j + \\alpha_{jj}C_j + \\alpha_{ji}C_i + \\alpha_{jk}C_k) \\\\\n",
    "\\frac{dC_k}{dt} = C_k(r_i + \\alpha_{kk}C_k + \\alpha_{ki}C_i + \\alpha_{kj}C_j)\n",
    "\\end{align}\n",
    "\n",
    "At equilibrium: \n",
    "\n",
    "\\begin{equation*}\n",
    "\\begin{bmatrix} r_i \\\\ r_j \\\\ r_k \\end{bmatrix} = - \\begin{bmatrix} \\alpha_{ii} & \\alpha_{ij} & \\alpha_{ik} \\\\ \\alpha_{ji} & \\alpha_{jj} & \\alpha_{jk} \\\\ \\alpha_{ki} & \\alpha_{kj} & \\alpha_{kk} \\end{bmatrix} \\begin{bmatrix} \\hat{C_i} \\\\ \\hat{C_j} \\\\ \\hat{C_k} \\end{bmatrix}\n",
    "\\end{equation*}\n",
    "\n",
    "Solving this equilibrium abundance following Cramer's rule:\n",
    "\n",
    "\\begin{align*}\n",
    "\\hat{C_i} = \\frac{\\begin{bmatrix} r_i & -\\alpha_{ij} & -\\alpha_{ik} \\\\ r_j & -\\alpha_{jj} & -\\alpha_{jk} \\\\ r_k & -\\alpha_{kj} & -\\alpha_{kk} \\end{bmatrix}}{\\mathbf{|A|}} , \n",
    "\\hat{C_j} = \\frac{\\begin{bmatrix} -\\alpha_{ii} & r_i & -\\alpha_{ik} \\\\ -\\alpha_{ji} & r_j & -\\alpha_{jk} \\\\ -\\alpha_{ki} & r_k & -\\alpha_{kk} \\end{bmatrix}}{\\mathbf{|A|}} , \n",
    "\\hat{C_k} = \\frac{\\begin{bmatrix} -\\alpha_{ii} & -\\alpha_{ij} & r_i \\\\ -\\alpha_{ji} & -\\alpha_{jj} & r_j \\\\ -\\alpha_{ki} & -\\alpha_{kj} & r_k \\end{bmatrix}}{\\mathbf{|A|}}\n",
    "\\end{align*}\n",
    "\n",
    "Here we have the first condition for coexistence, that equilibrium abundance for all species should be higher than $0$, which is: \n",
    "\n",
    "\\begin{align} \n",
    "\\begin{vmatrix} r_i & -\\alpha_{ij} & -\\alpha_{ik} \\\\ r_j & -\\alpha_{jj} & -\\alpha_{jk} \\\\ r_k & -\\alpha_{kj} & -\\alpha_{kk} \\end{vmatrix} > 0 ,\n",
    "\\begin{vmatrix} -\\alpha_{ii} & r_i & -\\alpha_{ik} \\\\ -\\alpha_{ji} & r_j & -\\alpha_{jk} \\\\ -\\alpha_{ki} & r_k & -\\alpha_{kk} \\end{vmatrix} > 0 , \n",
    "\\begin{vmatrix} -\\alpha_{ii} & -\\alpha_{ij} & r_i \\\\ -\\alpha_{ji} & -\\alpha_{jj} & r_j \\\\ -\\alpha_{ki} & -\\alpha_{kj} & r_k \\end{vmatrix} > 0\n",
    "\\end{align}"
   ]
  },
  {
   "cell_type": "markdown",
   "metadata": {},
   "source": [
    "The second condition is that this equilibrium is stable. At equilibrium, for $d\\hat{C_i}/dt = f_1(\\hat{C_i}, \\hat{C_j}, \\hat{C_k})$ ; $d\\hat{C_j}/dt = f_2(\\hat{C_i}, \\hat{C_j}, \\hat{C_k})$ ; $d\\hat{C_k}/dt = f_3(\\hat{C_i}, \\hat{C_j}, \\hat{C_k})$, we have the Jacobian matrix as: \n",
    "\n",
    "\\begin{align*}\n",
    "\\mathbf{J} & = \\begin{bmatrix} \\frac{\\partial f_1}{\\partial \\hat{C_i}} & \\frac{\\partial f_1}{\\partial \\hat{C_j}} & \\frac{\\partial f_1}{\\partial \\hat{C_k}} \\\\ \\frac{\\partial f_2}{\\partial \\hat{C_i}} & \\frac{\\partial f_2}{\\partial \\hat{C_j}} & \\frac{\\partial f_2}{\\partial \\hat{C_k}} \\\\ \\frac{\\partial f_3}{\\partial \\hat{C_i}} & \\frac{\\partial f_3}{\\partial \\hat{C_j}} & \\frac{\\partial f_3}{\\partial \\hat{C_k}} \\end{bmatrix} \\\\\n",
    "& = \\begin{bmatrix} \\alpha_{ii}\\hat{C_i} & \\alpha_{ij}\\hat{C_i} & \\alpha_{ik} \\hat{C_i} \\\\ \\alpha_{ji}\\hat{C_j} & \\alpha_{jj}\\hat{C_j} & \\alpha_{jk}\\hat{C_j} \\\\ \\alpha_{ki}\\hat{C_k} & \\alpha_{kj}\\hat{C_k} & \\alpha_{kk}\\hat{C_k} \\end{bmatrix}\n",
    "\\end{align*}\n",
    "\n",
    "For the equilibrium to be stable, requires all eigenvalues of this Jacobian to have negative real parts, therefore setting $|\\mathbf{J} - \\mathbf{I}\\lambda| = 0$, which is: \n",
    "\\begin{align*}\n",
    "    \\lambda^3 - (\\alpha_{ii}\\hat{C_i} + \\alpha_{jj}\\hat{C_j} + \\alpha_{kk}\\hat{C_k})\\lambda^2 + [\\alpha_{ii}\\alpha_{jj}\\hat{C_i}\\hat{C_j} + \\alpha_{ii}\\alpha_{kk}\\hat{C_i}\\hat{C_k} +\\alpha_{jj}\\alpha_{kk}\\hat{C_j}\\hat{C_k} - (\\alpha_{ij}\\alpha_{ji}\\hat{C_i}\\hat{C_j} \\\\\n",
    "    + \\alpha_{ik}\\alpha_{ki}\\hat{C_i}\\hat{C_k} + \\alpha_{jk}\\alpha_{kj}\\hat{C_j}\\hat{C_k})]\\lambda - \\hat{C_i}\\hat{C_j}\\hat{C_k}\\cdot\\mathbf{|A|} = 0,\n",
    "\\end{align*}\n",
    "Applying the Routh–Hurwitz criterion for a third-order polynomial, we can set: \n",
    "\\begin{align*}\n",
    "    a_1 = &- \\sum^n_i \\alpha_{ii}\\hat{C_i}, \\\\\n",
    "    a_2 = & \\sum^n_i\\sum^{i-1}_j\\hat{C_i}\\hat{C_j}\\cdot \\begin{vmatrix}\n",
    "        \\alpha_{ii} & \\alpha_{ij} \\\\ \\alpha_{ji} & \\alpha_{jj}\n",
    "    \\end{vmatrix}, \\\\\n",
    "    a_3 = & -\\hat{C_i}\\hat{C_j}\\hat{C_k}\\cdot\\mathbf{|A|},\n",
    "\\end{align*}\n",
    "For all roots of this polynomial to have negative real parts, requires: \n",
    "\\begin{equation}\n",
    "\\begin{cases}\n",
    "    a_1 > 0, a_2 > 0, a_3 > 0 \\\\\n",
    "    a_1a_2 - a_3 > 0 \n",
    "\\end{cases},\n",
    "\\end{equation} which is the second condition for 3 species' coexistence in this system. "
   ]
  },
  {
   "cell_type": "markdown",
   "metadata": {},
   "source": [
    "## The Microbial Community Model"
   ]
  },
  {
   "cell_type": "markdown",
   "metadata": {},
   "source": [
    "\\begin{equation}\n",
    "dC_i/dt = C_i\\Bigl(\\sum_{\\alpha=1}^{M}u_{i\\alpha}(T)S_\\alpha(1-\\sum_{\\beta=1}^{M}l_{\\alpha \\beta}) - m_i(T)\\Bigl)\n",
    "\\end{equation}\n",
    "\n",
    "\\begin{equation}\n",
    "dS_\\alpha/dt = \\rho_\\alpha - \\sum_{i=1}^{N}\\Bigl(C_iu_{i\\alpha}(T)S_\\alpha-\\sum_{\\beta =1}^{M}C_iu_{i\\beta}(T)S_\\beta l_{\\beta \\alpha}\\Bigl)\n",
    "\\end{equation}\n",
    "\n",
    "| Parameter symbol | Parameter name | Units | Initial value |\n",
    "|---|---|---|---|\n",
    "| $M$ | Number of resources | individuals  | ? |\n",
    "| $N$ | Number of species | individuals  | 3 |\n",
    "| $C_i$ | Bacteria population of species i | mass/volume | Obs |\n",
    "| $S_\\alpha$ | Concentration of resource $\\alpha$ | mass/volume | ? |\n",
    "| $u_{i\\alpha}$ | Uptake of resource $\\alpha$ by species i | 1/(mass/volume)* time | Temperature dependant |\n",
    "| $m_i$ | Respiration of species i | 1/time | Temperature dependant |\n",
    "| $l_{\\alpha \\beta}$ | Leakage/transformation fraction | - | ? |\n",
    "| $\\rho_\\alpha$ | Supply of resource $\\alpha$ | mass/volume* time | ? |"
   ]
  },
  {
   "cell_type": "markdown",
   "metadata": {},
   "source": [
    "### Getting effective LV model\n",
    "\n",
    "Following paper (A Minimal Model...)\n",
    "\n",
    "Assuming resource dynamics reaches equilibrium faster than species biomass. When $dS_\\alpha/dt = 0$, get equilibrium resource concentration $\\hat{S_\\alpha}$ as a function of $C_j$: \n",
    "\\begin{equation*}\n",
    "\\hat{S_\\alpha} = \\frac{\\rho_\\alpha - \\sum_\\beta C_ju_{j\\beta} \\hat{S_\\beta} l_{\\beta \\alpha}}{\\sum_j C_j u_{j\\alpha}(1-l_{\\alpha \\alpha})}\n",
    "\\end{equation*}"
   ]
  },
  {
   "cell_type": "markdown",
   "metadata": {},
   "source": [
    "Inserting $\\hat{S_\\alpha}(\\{C_j\\})$ in to biomass dynamics, then approximate around $C_j = \\hat{C_j}$ using the first order of Taylor expansion: \n",
    "\n",
    "\\begin{align*}\n",
    "\\frac{dC_i}{dt} & = C_i \\left(\\sum_\\alpha u_{i\\alpha}(1-l_\\alpha)\\hat{S_\\alpha}(\\{C_j\\}) - m_i\\right) \\\\\n",
    "& \\approx C_i \\Bigl[\\sum_\\alpha u_{i\\alpha}(1-l_\\alpha) \\left(\\hat{S_\\alpha} + \\sum_j \\frac{\\partial \\hat{S_\\alpha}}{\\partial C_j}(C_j - \\hat{C_j}) \\right) - m_i\\Bigl] \\\\\n",
    "& = C_i(r_i+\\sum_j \\alpha_{ij}C_j)\n",
    "\\end{align*}\n",
    "\n",
    "Where\n",
    "\\begin{align}\n",
    "& \\alpha_{ij} = \\sum_\\alpha u_{i\\alpha}(1 - l_\\alpha)\\frac{\\partial \\hat{S_\\alpha}}{\\partial C_j} \\\\\n",
    "& r_i = \\sum_\\alpha u_{i\\alpha}(1-l_\\alpha)\\hat{S_\\alpha} -\\sum_j \\alpha_{ij} \\hat{C_j} - m_i\n",
    "\\end{align}\n"
   ]
  },
  {
   "cell_type": "markdown",
   "metadata": {},
   "source": [
    "When resources are at equilibrium: \n",
    "\\begin{equation*}\n",
    "\\rho_\\alpha - (\\sum_i C_iu_{i\\alpha}\\hat{S_\\alpha} - \\sum_{i\\beta}C_iu_{i\\beta}\\hat{S_\\beta}l_{\\beta \\alpha}) = 0\n",
    "\\end{equation*}\n",
    "\n",
    "Taking partial derivative $\\frac{\\partial \\hat{S}}{\\partial C_j}$ of the above equation, then rearrange :\n",
    "\\begin{align*}\n",
    "u_{j\\alpha}\\hat{S_\\alpha} + \\sum_i C_i u_{i\\alpha} \\frac{\\partial \\hat{S_{\\alpha}}}{\\partial C_j} - \\sum_\\beta u_{j\\beta}\\hat{S_{\\beta}}l_{\\beta \\alpha} - \\sum_{i\\beta} C_iu_{i\\beta}l_{\\beta \\alpha} \\frac{\\partial \\hat{S_{\\beta}}}{\\partial C_j} = 0 \\\\\n",
    "\\sum_i C_iu_{i\\alpha} \\frac{\\partial \\hat{S_{\\alpha}}}{\\partial C_j} - \\sum_{i\\beta} C_iu_{i\\beta}l_{\\beta \\alpha} \\frac{\\partial \\hat{S_{\\beta}}}{\\partial C_j} = -(u_{j\\alpha}\\hat{S_\\alpha} - \\sum_\\beta u_{j\\beta}\\hat{S_{\\beta}}l_{\\beta \\alpha}) \\\\\n",
    "\\sum_{i\\beta}(\\delta_{\\beta \\alpha} - l_{\\beta \\alpha})C_iu_{i\\beta} \\frac{\\partial \\hat{S_{\\beta}}}{\\partial C_j} = -\\sum_\\beta (\\delta_{\\beta \\alpha} - l_{\\beta \\alpha})u_{j\\beta}\\hat{S_\\beta}\n",
    "\\end{align*}\n",
    "\n",
    "In which $\\delta_{\\alpha \\beta}$ is a Kronecker delta, meaning that: \n",
    "\\begin{equation*}\n",
    "\\delta_{\\alpha \\beta} = \n",
    "\\begin{cases}\n",
    "0,& \\text{if } \\alpha \\neq \\beta\\\\\n",
    "1,& \\text{if } \\alpha =\\beta\n",
    "\\end{cases}\n",
    "\\end{equation*}"
   ]
  },
  {
   "cell_type": "markdown",
   "metadata": {},
   "source": [
    "asign $L_{\\beta \\alpha} = \\delta_{\\beta \\alpha} - l_{\\beta \\alpha}$: \n",
    "\\begin{align*}\n",
    "\\begin{bmatrix}\n",
    "L_{11} & \\dots & L_{M1} \\\\\n",
    "\\vdots & \\ddots & \\\\\n",
    "L_{1M} & \\dots & L_{MM} \n",
    "\\end{bmatrix}\n",
    "\\begin{bmatrix}\n",
    "\\sum_i C_iu_{i1}\\frac{\\partial \\hat{S_1}}{\\partial C_j} \\\\ \\vdots \\\\ \\sum_i C_iu_{iM} \\frac{\\partial \\hat{S_M}}{\\partial C_j}\n",
    "\\end{bmatrix}\n",
    " &= -\n",
    "\\begin{bmatrix}\n",
    "L_{11} & \\dots & L_{M1} \\\\\n",
    "\\vdots & \\ddots & \\\\\n",
    "L_{1M} & \\dots & L_{MM} \n",
    "\\end{bmatrix}\n",
    "\\begin{bmatrix}\n",
    "u_{j1}\\hat{S_1} \\\\\n",
    "\\vdots \\\\\n",
    "u_{jM}\\hat{S_M}\n",
    "\\end{bmatrix} \n",
    "\\end{align*}"
   ]
  },
  {
   "cell_type": "markdown",
   "metadata": {},
   "source": [
    "Therefore for each $S_\\alpha$, there is: \n",
    "\\begin{equation}\n",
    "\\frac{\\partial \\hat{S_{\\alpha}}}{\\partial C_j} = - \\frac{u_{j\\alpha}\\hat{S_\\alpha}}{\\sum_i C_i u_{i\\alpha}}\n",
    "\\end{equation}"
   ]
  },
  {
   "cell_type": "markdown",
   "metadata": {},
   "source": [
    "Inserting this back into equation 9 for the interaction coefficient: \n",
    "\\begin{align}\n",
    "\\alpha_{ij} &= \\sum_\\alpha u_{i \\alpha}(1-l_\\alpha)\\frac{\\partial \\hat{S_\\alpha}}{\\partial C_j} \\nonumber \\\\\n",
    "&= -\\sum_{\\alpha} \\frac{u_{i\\alpha}u_{j\\alpha}\\hat{S_\\alpha}(1-l_\\alpha)}{\\sum_i C_i u_{i\\alpha}}\n",
    "\\end{align}"
   ]
  },
  {
   "cell_type": "markdown",
   "metadata": {},
   "source": [
    "#### 1 species + 1 resource\n",
    "\\begin{equation*}\n",
    "\\hat{S} = \\frac{m}{u(1-l)} ; \\hat{C} = \\frac{\\rho}{m}\n",
    "\\end{equation*}\n",
    "\n"
   ]
  },
  {
   "cell_type": "markdown",
   "metadata": {},
   "source": [
    "#### 2 species + 1 resource \n",
    "\\begin{align*}\n",
    "&\\frac{dC_i}{dt} = C_i(u_{i\\alpha}\\hat{S_\\alpha}(1-l_{\\alpha}) - R_i) \\\\\n",
    "&\\frac{dC_j}{dt} = C_j(u_{j\\alpha}\\hat{S_\\alpha}(1-l_{\\alpha}) - R_j) \\\\\n",
    "&\\frac{dS}{dt} = \\rho_\\alpha-(C_iu_{i\\alpha}+C_ju_{j\\alpha})\\hat{S_\\alpha}(1-l_{\\alpha\\alpha})\n",
    "\\end{align*}\n",
    "\n",
    "At resource equilibrium: \n",
    "\\begin{align}\n",
    "\\rho_\\alpha - \\sum_j C_j u_{j\\alpha}\\hat{S_\\alpha}(1- l_{\\alpha\\alpha}) = 0 \\nonumber \\\\\n",
    "u_{j\\alpha}\\hat{S_\\alpha} (1-l_{\\alpha\\alpha}) + \\sum_j C_j u_{j\\alpha} \\frac{\\partial \\hat{S_\\alpha}}{\\partial C_j} = 0 \\nonumber \\\\\n",
    "\\frac{\\partial \\hat{S_\\alpha}}{\\partial C_j} = -\\frac{u_{j\\alpha}\\hat{S_\\alpha}}{C_iu_{i\\alpha}+C_ju_{j\\alpha}}\n",
    "\\end{align}\n",
    "\n",
    "Inserting into $\\alpha_{ij}$ in equation 8:\n",
    "\\begin{align}\n",
    "\\alpha_{ij} & = \\sum_\\alpha u_{i\\alpha}(1 - l_\\alpha)\\frac{\\partial \\hat{S_\\alpha}}{\\partial C_j} \\nonumber \\\\\n",
    "& = -\\frac{u_{i\\alpha}u_{j\\alpha}(1-l_\\alpha)\\hat{S_\\alpha}}{C_iu_{i\\alpha}+ C_ju_{j\\alpha}}\n",
    "\\end{align}"
   ]
  },
  {
   "cell_type": "markdown",
   "metadata": {},
   "source": [
    "Then at equilibrium: \n",
    "\\begin{align}\n",
    "\\because \\rho_\\alpha = (C_iu_{i\\alpha}+C_ju_{j\\alpha})\\hat{S_\\alpha}(1-l_{\\alpha\\alpha}) \\nonumber \\\\\n",
    " C_iu_{i\\alpha}+C_ju_{j\\alpha} = \\frac{\\rho_\\alpha}{\\hat{S_\\alpha}(1-l_{\\alpha\\alpha})} \\nonumber \\\\\n",
    "\\therefore \\alpha_{ij} = -\\frac{u_{i\\alpha}u_{j\\alpha}(1-l_\\alpha)(1-l_{\\alpha\\alpha})\\hat{S_\\alpha}^2}{\\rho_\\alpha}\n",
    "\\end{align}"
   ]
  },
  {
   "cell_type": "markdown",
   "metadata": {},
   "source": [
    "#### 2 species + 2 resources\n",
    "\n",
    "\\begin{align*}\n",
    "\\frac{dS_\\alpha}{dt} = \\rho_\\alpha - (C_iu_{i\\alpha}+C_ju_{j\\alpha})S_\\alpha(1-l_{\\alpha\\alpha}) + (C_iu_{i\\beta}+C_ju_{j\\beta})S_\\beta l_{\\beta \\alpha} \\\\\n",
    "\\frac{dS_\\beta}{dt} = \\rho_\\beta - (C_iu_{i\\beta}+C_ju_{j\\beta})S_\\beta(1-l_{\\beta\\beta}) + (C_iu_{i\\alpha}+C_ju_{j\\alpha})S_\\alpha l_{\\alpha \\beta}\n",
    "\\end{align*}\n",
    "\n",
    "At equilibrium, both $\\frac{dS_\\alpha}{dt}$ and $\\frac{dS_\\beta}{dt}$ are 0. Taking partial derivative on $C_j$:\n",
    "\n",
    "\\begin{align*}\n",
    "u_{j\\alpha}\\hat{S_\\alpha}(1-l_{\\alpha\\alpha}) - u_{j\\beta}l_{\\beta \\alpha}\\hat{S_\\beta} + (C_iu_{i\\alpha} + C_ju_{j\\alpha})(1-l_{\\alpha\\alpha})\\frac{\\partial \\hat{S_\\alpha}}{\\partial C_j} - (C_iu_{i\\beta} + C_ju_{j\\beta})l_{\\beta \\alpha}\\frac{\\partial \\hat{S_\\beta}}{\\partial C_j} = 0 \\\\\n",
    "u_{j\\beta}\\hat{S_\\beta}(1-l_{\\beta \\beta}) - u_{j\\alpha}l_{\\alpha \\beta}\\hat{S_\\alpha} + (C_iu_{i\\beta} + C_ju_{j\\beta})(1-l_{\\beta \\beta})\\frac{\\partial \\hat{S_\\beta}}{\\partial C_j} - (C_iu_{i\\alpha} + C_ju_{j\\alpha})l_{\\alpha \\beta}\\frac{\\partial \\hat{S_\\alpha}}{\\partial C_j} = 0\n",
    "\\end{align*}\n",
    "\n",
    "Rearranging, getting:\n",
    "\\begin{align*}\n",
    "\\frac{\\partial \\hat{S_\\alpha}}{\\partial C_j} = -\\frac{u_{j\\alpha}\\hat{S_\\alpha}}{C_iu_{i\\alpha}+C_ju_{j\\alpha}} \\\\\n",
    "\\frac{\\partial \\hat{S_\\beta}}{\\partial C_j} = -\\frac{u_{j\\beta}\\hat{S_\\beta}}{C_iu_{i\\beta}+C_ju_{j\\beta}}\n",
    "\\end{align*}\n",
    "\n",
    "Inserting into $\\alpha_{ij}$ in equation 8:\n",
    "\n",
    "\\begin{align}\n",
    "\\alpha_{ij} & = \\sum_\\alpha u_{i\\alpha}(1 - l_\\alpha)\\frac{\\partial \\hat{S_\\alpha}}{\\partial C_j} \\nonumber \\\\\n",
    "& = -\\left(\\frac{u_{i\\alpha}u_{j\\alpha}(1-l_\\alpha)\\hat{S_\\alpha}}{C_iu_{i\\alpha}+ C_ju_{j\\alpha}} + \\frac{u_{i\\beta}u_{j\\beta}(1-l_\\beta)\\hat{S_\\beta}}{C_iU_{i\\beta}+ C_ju_{j\\beta}} \\right)\n",
    "\\end{align}"
   ]
  },
  {
   "cell_type": "markdown",
   "metadata": {},
   "source": [
    "##### Temperature dependencies - using the Arrhenius for now\n",
    "\n",
    "\n",
    "\\begin{equation*}\n",
    "B = B_0 \\times {e^{\\frac{-E}{k}\\cdot\\Bigl(\\frac{1}{T} - \\frac{1}{T_r}\\Bigl)}}\n",
    "\\end{equation*}\n",
    "\n",
    "\n",
    "| Parameter symbol | Parameter name | Units | Initial value |\n",
    "|---|---|---|---|\n",
    "| $B$ | Normalisation constant | - | Obs |\n",
    "| $E$ | Activation energy | eV | Obs |\n",
    "| $k$ | Boltsmann constant | eV/K | $8.62$ $\\times 10^{-5}$ |\n",
    "| T | Temperature | K | 283.15-303.15 |\n",
    "| $T_r$| Reference temperature | K | 273.15 |"
   ]
  }
 ],
 "metadata": {
  "kernelspec": {
   "display_name": "Python 3",
   "language": "python",
   "name": "python3"
  },
  "language_info": {
   "codemirror_mode": {
    "name": "ipython",
    "version": 3
   },
   "file_extension": ".py",
   "mimetype": "text/x-python",
   "name": "python",
   "nbconvert_exporter": "python",
   "pygments_lexer": "ipython3",
   "version": "3.8.3"
  },
  "latex_envs": {
   "LaTeX_envs_menu_present": true,
   "autoclose": false,
   "autocomplete": true,
   "bibliofile": "biblio.bib",
   "cite_by": "apalike",
   "current_citInitial": 1,
   "eqLabelWithNumbers": true,
   "eqNumInitial": 1,
   "hotkeys": {
    "equation": "Ctrl-E",
    "itemize": "Ctrl-I"
   },
   "labels_anchors": false,
   "latex_user_defs": false,
   "report_style_numbering": false,
   "user_envs_cfg": false
  }
 },
 "nbformat": 4,
 "nbformat_minor": 4
}
