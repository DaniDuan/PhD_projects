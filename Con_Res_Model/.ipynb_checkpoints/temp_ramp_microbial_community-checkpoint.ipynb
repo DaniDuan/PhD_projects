{
 "cells": [
  {
   "cell_type": "markdown",
   "metadata": {},
   "source": [
    "# Impacts of changing temperature on microbial community structure and functioning\n",
    "\n",
    "Danica"
   ]
  },
  {
   "cell_type": "markdown",
   "metadata": {},
   "source": [
    "## The Lotka–Volterra model\n"
   ]
  },
  {
   "cell_type": "markdown",
   "metadata": {},
   "source": [
    "\\begin{equation}\n",
    "\\frac{1}{C_i}\\frac{dC_i}{dt}  =r_i(T) + \\alpha_{ii}(T)C_i+\\sum_{j \\neq i}^N \\alpha_{ij}(T)C_j\n",
    "\\end{equation}"
   ]
  },
  {
   "cell_type": "markdown",
   "metadata": {},
   "source": [
    "\n",
    "| Parameter symbol | Parameter name | Initial value |\n",
    "|---|---|---|\n",
    "| $N$ | Number of species | 3 |\n",
    "| $C_i$ | Species biomass | Obs |\n",
    "| $r_i$ | Maximum growth rate | Temperature dependent |\n",
    "| $\\alpha_{ii}$ | Intraspecies interaction | Temperature dependent |\n",
    "| $\\alpha_{ij}$ | Interspecies interaction | Temperature dependant |\n",
    "\n",
    "For positive interaction: $\\alpha_{ij}>0$; for negative interaction: $\\alpha_{ij}<0$"
   ]
  },
  {
   "cell_type": "markdown",
   "metadata": {},
   "source": [
    "### At steady state\n",
    "#### 1 species\n",
    "\n",
    "\\begin{equation*}\n",
    "C_i = \\frac{r_i}{-\\alpha_{ii}}\n",
    "\\end{equation*}\n",
    "\n",
    "Carrying capacity $K_i = r_i/\\alpha_{ii}$\n",
    "\n",
    "#### 2 species\n",
    "\n",
    "\\begin{equation*}\n",
    "\\frac{dC_i}{dt}  =C_i(r_i + \\alpha_{ii}C_i +\\alpha C_j) ; \\frac{dC_j}{dt}  =C_j(r_j + \\alpha_{jj}C_j +\\alpha C_i)\n",
    "\\end{equation*}\n",
    "\n",
    "\\begin{equation*}\n",
    "C_i = -\\frac{\\alpha_{jj}r_i + \\alpha r_j}{\\alpha_{ii}\\alpha_{jj} - \\alpha^2}\n",
    "\\end{equation*}\n",
    "\n",
    "#### Multiple species\n",
    "\n",
    "\\begin{equation*}\n",
    "C_i = -\\frac{r_i + \\sum_{j \\neq i}^N \\alpha_{ij}C_j}{\\alpha_{ii}}\n",
    "\\end{equation*}"
   ]
  },
  {
   "cell_type": "markdown",
   "metadata": {},
   "source": [
    "### 2 species system\n",
    "- following the paper (Strobeck, C., 1973. N species competition. Ecology, 54(3), pp.650-654.)\n",
    "\n",
    "Condition for coexistence: \n",
    "\\begin{align*}\n",
    "\\begin{bmatrix} r_i & -\\alpha_{ij} \\\\ r_j & -\\alpha_{jj} \\end{bmatrix}  > 0 ,\n",
    "\\begin{bmatrix} -\\alpha_{ii} & r_i \\\\ -\\alpha_{ji} & r_j \\end{bmatrix} > 0\n",
    "\\end{align*}"
   ]
  },
  {
   "cell_type": "markdown",
   "metadata": {},
   "source": [
    "\n",
    "### 3 species system\n",
    "\n",
    "\\begin{align}\n",
    "\\frac{dC_i}{dt} = C_i(r_i + \\alpha_{ii}C_i + \\alpha_{ij}C_j + \\alpha_{ik}C_k) \\\\\n",
    "\\frac{dC_j}{dt} = C_j(r_j + \\alpha_{jj}C_j + \\alpha_{ji}C_i + \\alpha_{jk}C_k) \\\\\n",
    "\\frac{dC_k}{dt} = C_k(r_i + \\alpha_{kk}C_k + \\alpha_{ki}C_i + \\alpha_{kj}C_j)\n",
    "\\end{align}\n",
    "\n",
    "At equilibrium: \n",
    "\n",
    "\\begin{equation*}\n",
    "\\begin{bmatrix} r_i \\\\ r_j \\\\ r_k \\end{bmatrix} = - \\begin{bmatrix} \\alpha_{ii} & \\alpha_{ij} & \\alpha_{ik} \\\\ \\alpha_{ji} & \\alpha_{jj} & \\alpha_{jk} \\\\ \\alpha_{ki} & \\alpha_{kj} & \\alpha_{kk} \\end{bmatrix} \\begin{bmatrix} \\hat{C_i} \\\\ \\hat{C_j} \\\\ \\hat{C_k} \\end{bmatrix}\n",
    "\\end{equation*}\n",
    "\n",
    "Solving this equilibrium abundance following Cramer's rule:\n",
    "\n",
    "\\begin{align*}\n",
    "\\hat{C_i} = \\frac{\\begin{bmatrix} r_i & -\\alpha_{ij} & -\\alpha_{ik} \\\\ r_j & -\\alpha_{jj} & -\\alpha_{jk} \\\\ r_k & -\\alpha_{kj} & -\\alpha_{kk} \\end{bmatrix}}{\\mathbf{|A|}} , \n",
    "\\hat{C_j} = \\frac{\\begin{bmatrix} -\\alpha_{ii} & r_i & -\\alpha_{ik} \\\\ -\\alpha_{ji} & r_j & -\\alpha_{jk} \\\\ -\\alpha_{ki} & r_k & -\\alpha_{kk} \\end{bmatrix}}{\\mathbf{|A|}} , \n",
    "\\hat{C_k} = \\frac{\\begin{bmatrix} -\\alpha_{ii} & -\\alpha_{ij} & r_i \\\\ -\\alpha_{ji} & -\\alpha_{jj} & r_j \\\\ -\\alpha_{ki} & -\\alpha_{kj} & r_k \\end{bmatrix}}{\\mathbf{|A|}}\n",
    "\\end{align*}\n",
    "\n",
    "Here we have the first condition for coexistence, that equilibrium abundance for all species should be higher than $0$, which is: \n",
    "\n",
    "\\begin{align} \n",
    "\\begin{vmatrix} r_i & -\\alpha_{ij} & -\\alpha_{ik} \\\\ r_j & -\\alpha_{jj} & -\\alpha_{jk} \\\\ r_k & -\\alpha_{kj} & -\\alpha_{kk} \\end{vmatrix} > 0 ,\n",
    "\\begin{vmatrix} -\\alpha_{ii} & r_i & -\\alpha_{ik} \\\\ -\\alpha_{ji} & r_j & -\\alpha_{jk} \\\\ -\\alpha_{ki} & r_k & -\\alpha_{kk} \\end{vmatrix} > 0 , \n",
    "\\begin{vmatrix} -\\alpha_{ii} & -\\alpha_{ij} & r_i \\\\ -\\alpha_{ji} & -\\alpha_{jj} & r_j \\\\ -\\alpha_{ki} & -\\alpha_{kj} & r_k \\end{vmatrix} > 0\n",
    "\\end{align}"
   ]
  },
  {
   "cell_type": "markdown",
   "metadata": {},
   "source": [
    "The second condition is that this equilibrium is stable. At equilibrium, for $d\\hat{C_i}/dt = f_1(\\hat{C_i}, \\hat{C_j}, \\hat{C_k})$ ; $d\\hat{C_j}/dt = f_2(\\hat{C_i}, \\hat{C_j}, \\hat{C_k})$ ; $d\\hat{C_k}/dt = f_3(\\hat{C_i}, \\hat{C_j}, \\hat{C_k})$, we have the Jacobian matrix as: \n",
    "\n",
    "\\begin{align*}\n",
    "\\mathbf{J} & = \\begin{bmatrix} \\frac{\\partial f_1}{\\partial \\hat{C_i}} & \\frac{\\partial f_1}{\\partial \\hat{C_j}} & \\frac{\\partial f_1}{\\partial \\hat{C_k}} \\\\ \\frac{\\partial f_2}{\\partial \\hat{C_i}} & \\frac{\\partial f_2}{\\partial \\hat{C_j}} & \\frac{\\partial f_2}{\\partial \\hat{C_k}} \\\\ \\frac{\\partial f_3}{\\partial \\hat{C_i}} & \\frac{\\partial f_3}{\\partial \\hat{C_j}} & \\frac{\\partial f_3}{\\partial \\hat{C_k}} \\end{bmatrix} \\\\\n",
    "& = \\begin{bmatrix} \\alpha_{ii}\\hat{C_i} & \\alpha_{ij}\\hat{C_i} & \\alpha_{ik} \\hat{C_i} \\\\ \\alpha_{ji}\\hat{C_j} & \\alpha_{jj}\\hat{C_j} & \\alpha_{jk}\\hat{C_j} \\\\ \\alpha_{ki}\\hat{C_k} & \\alpha_{kj}\\hat{C_k} & \\alpha_{kk}\\hat{C_k} \\end{bmatrix}\n",
    "\\end{align*}\n",
    "\n",
    "For the equilibrium to be stable, requires all eigenvalues of this Jacobian to have negative real parts, therefore setting $|\\mathbf{J} - \\mathbf{I}\\lambda| = 0$, which is: \n",
    "\\begin{align*}\n",
    "    \\lambda^3 - (\\alpha_{ii}\\hat{C_i} + \\alpha_{jj}\\hat{C_j} + \\alpha_{kk}\\hat{C_k})\\lambda^2 + [\\alpha_{ii}\\alpha_{jj}\\hat{C_i}\\hat{C_j} + \\alpha_{ii}\\alpha_{kk}\\hat{C_i}\\hat{C_k} +\\alpha_{jj}\\alpha_{kk}\\hat{C_j}\\hat{C_k} - (\\alpha_{ij}\\alpha_{ji}\\hat{C_i}\\hat{C_j} \\\\\n",
    "    + \\alpha_{ik}\\alpha_{ki}\\hat{C_i}\\hat{C_k} + \\alpha_{jk}\\alpha_{kj}\\hat{C_j}\\hat{C_k})]\\lambda - \\hat{C_i}\\hat{C_j}\\hat{C_k}\\cdot\\mathbf{|A|} = 0,\n",
    "\\end{align*}\n",
    "Applying the Routh–Hurwitz criterion for a third-order polynomial, we can set: \n",
    "\\begin{align*}\n",
    "    a_1 = &- \\sum^n_i \\alpha_{ii}\\hat{C_i}, \\\\\n",
    "    a_2 = & \\sum^n_i\\sum^{i-1}_j\\hat{C_i}\\hat{C_j}\\cdot \\begin{vmatrix}\n",
    "        \\alpha_{ii} & \\alpha_{ij} \\\\ \\alpha_{ji} & \\alpha_{jj}\n",
    "    \\end{vmatrix}, \\\\\n",
    "    a_3 = & -\\hat{C_i}\\hat{C_j}\\hat{C_k}\\cdot\\mathbf{|A|},\n",
    "\\end{align*}\n",
    "For all roots of this polynomial to have negative real parts, requires: \n",
    "\\begin{equation}\n",
    "\\begin{cases}\n",
    "    a_1 > 0, a_2 > 0, a_3 > 0 \\\\\n",
    "    a_1a_2 - a_3 > 0 \n",
    "\\end{cases},\n",
    "\\end{equation} which is the second condition for 3 species' coexistence in this system. "
   ]
  },
  {
   "cell_type": "markdown",
   "metadata": {},
   "source": [
    "## The Microbial Community Model"
   ]
  },
  {
   "cell_type": "markdown",
   "metadata": {},
   "source": [
    "\\begin{equation}\n",
    "dC_i/dt = C_i\\Bigl(\\sum_{\\alpha=1}^{M}u_{i\\alpha}(T)S_\\alpha(1-\\sum_{\\beta=1}^{M}l_{\\alpha \\beta}) - m_i(T)\\Bigl)\n",
    "\\end{equation}\n",
    "\n",
    "\\begin{equation}\n",
    "dS_\\alpha/dt = \\rho_\\alpha - \\sum_{i=1}^{N}\\Bigl(C_iu_{i\\alpha}(T)S_\\alpha-\\sum_{\\beta =1}^{M}C_iu_{i\\beta}(T)S_\\beta l_{\\beta \\alpha}\\Bigl)\n",
    "\\end{equation}\n",
    "\n",
    "| Parameter symbol | Parameter name | Units | Initial value |\n",
    "|---|---|---|---|\n",
    "| $M$ | Number of resources | individuals  | ? |\n",
    "| $N$ | Number of species | individuals  | 3 |\n",
    "| $C_i$ | Bacteria population of species i | mass/volume | Obs |\n",
    "| $S_\\alpha$ | Concentration of resource $\\alpha$ | mass/volume | ? |\n",
    "| $u_{i\\alpha}$ | Uptake of resource $\\alpha$ by species i | 1/(mass/volume)* time | Temperature dependant |\n",
    "| $m_i$ | Respiration of species i | 1/time | Temperature dependant |\n",
    "| $l_{\\alpha \\beta}$ | Leakage/transformation fraction | - | ? |\n",
    "| $\\rho_\\alpha$ | Supply of resource $\\alpha$ | mass/volume* time | ? |"
   ]
  },
  {
   "cell_type": "markdown",
   "metadata": {},
   "source": [
    "### Getting effective LV model\n",
    "\n",
    "Following paper (A Minimal Model...)\n",
    "\n",
    "Assuming resource dynamics reaches equilibrium faster than species biomass. When $dS_\\alpha/dt = 0$, get equilibrium resource concentration $\\hat{S_\\alpha}$ as a function of $C_j$: \n",
    "\\begin{equation*}\n",
    "\\hat{S_\\alpha} = \\frac{\\rho_\\alpha - \\sum_\\beta C_ju_{j\\beta} \\hat{S_\\beta} l_{\\beta \\alpha}}{\\sum_j C_j u_{j\\alpha}(1-l_{\\alpha \\alpha})}\n",
    "\\end{equation*}"
   ]
  },
  {
   "cell_type": "markdown",
   "metadata": {},
   "source": [
    "Inserting $\\hat{S_\\alpha}(\\{C_j\\})$ in to biomass dynamics, then approximate around $C_j = \\hat{C_j}$ using the first order of Taylor expansion: \n",
    "\n",
    "\\begin{align*}\n",
    "\\frac{dC_i}{dt} & = C_i \\left(\\sum_\\alpha u_{i\\alpha}(1-l_\\alpha)\\hat{S_\\alpha}(\\{C_j\\}) - m_i\\right) \\\\\n",
    "& \\approx C_i \\Bigl[\\sum_\\alpha u_{i\\alpha}(1-l_\\alpha) \\left(\\hat{S_\\alpha} + \\sum_j \\frac{\\partial \\hat{S_\\alpha}}{\\partial C_j}(C_j - \\hat{C_j}) \\right) - m_i\\Bigl] \\\\\n",
    "& = C_i(r_i+\\sum_j \\alpha_{ij}C_j)\n",
    "\\end{align*}\n",
    "\n",
    "Where\n",
    "\\begin{align}\n",
    "& \\alpha_{ij} = \\sum_\\alpha u_{i\\alpha}(1 - l_\\alpha)\\frac{\\partial \\hat{S_\\alpha}}{\\partial C_j} \\\\\n",
    "& r_i = \\sum_\\alpha u_{i\\alpha}(1-l_\\alpha)\\hat{S_\\alpha} -\\sum_j \\alpha_{ij} \\hat{C_j} - m_i\n",
    "\\end{align}\n"
   ]
  },
  {
   "cell_type": "markdown",
   "metadata": {},
   "source": [
    "When resources are at equilibrium: \n",
    "\\begin{equation*}\n",
    "\\rho_\\alpha - (\\sum_j C_ju_{j\\alpha}\\hat{S_\\alpha} - \\sum_{j\\beta}C_ju_{j\\beta}\\hat{S_\\beta}l_{\\beta \\alpha}) = 0\n",
    "\\end{equation*}\n",
    "\n",
    "Taking partial derivative $\\frac{\\partial \\hat{S}}{\\partial C_j}$ of the above equation, then rearrange :\n",
    "\\begin{align*}\n",
    "u_{j\\alpha}\\hat{S_\\alpha} + \\sum_j C_j u_{j\\alpha} \\frac{\\partial \\hat{S_{\\alpha}}}{\\partial C_j} - \\sum_\\beta u_{j\\beta}\\hat{S_{\\beta}}l_{\\beta \\alpha} - \\sum_{j\\beta} C_ju_{j\\beta}l_{\\beta \\alpha} \\frac{\\partial \\hat{S_{\\beta}}}{\\partial C_j} = 0 \\\\\n",
    "\\sum_j C_ju_{j\\alpha} \\frac{\\partial \\hat{S_{\\alpha}}}{\\partial C_j} - \\sum_{j\\beta} C_ju_{j\\beta}l_{\\beta \\alpha} \\frac{\\partial \\hat{S_{\\beta}}}{\\partial C_j} = -(u_{j\\alpha}\\hat{S_\\alpha} - \\sum_\\beta u_{j\\beta}\\hat{S_{\\beta}}l_{\\beta \\alpha}) \\\\\n",
    "\\sum_{j\\beta}(\\delta_{\\beta \\alpha} - l_{\\beta \\alpha})C_ju_{j\\beta} \\frac{\\partial \\hat{S_{\\beta}}}{\\partial C_j} = -\\sum_\\beta (\\delta_{\\beta \\alpha} - l_{\\beta \\alpha})u_{j\\beta}\\hat{S_\\beta}\n",
    "\\end{align*}\n",
    "\n",
    "In which $\\delta_{\\alpha \\beta}$ is a Kronecker delta, meaning that: \n",
    "\\begin{equation*}\n",
    "\\delta_{\\alpha \\beta} = \n",
    "\\begin{cases}\n",
    "0,& \\text{if } \\alpha \\neq \\beta\\\\\n",
    "1,& \\text{if } \\alpha =\\beta\n",
    "\\end{cases}\n",
    "\\end{equation*}"
   ]
  },
  {
   "cell_type": "markdown",
   "metadata": {},
   "source": [
    "Then asign $L_{\\beta \\alpha} = \\delta_{\\beta \\alpha} - l_{\\beta \\alpha}$ and $A_{\\alpha \\beta} = \\sum_i L_{\\beta \\alpha} C_i u_{i\\beta}$ to the above equation, getting: \n",
    "\\begin{equation}\n",
    "\\sum_{\\beta} A_{\\alpha \\beta} \\frac{\\partial \\hat{S_{\\beta}}}{\\partial C_j} = - \\sum_\\beta L_{\\beta \\alpha}u_{j\\beta}\\hat{S_\\beta}\n",
    "\\end{equation}\n",
    "\n",
    "Writing into a vectorized version: \n",
    "\\begin{equation*}\n",
    "\\mathbf{A} \\cdot \\vec{\\frac{\\partial \\hat{S}}{\\partial C_j}} = - \\mathbf{L} \\cdot \\vec{\\mathbf{US}}\n",
    "\\end{equation*}\n",
    "\n",
    "which can be rearranged into: \n",
    "\\begin{equation}\n",
    "\\vec{\\frac{\\partial \\hat{S}}{\\partial C_j}} = - \\mathbf{A}^{-1} \\cdot \\mathbf{L} \\cdot \\vec{\\mathbf{US}}\n",
    "\\end{equation}\n"
   ]
  },
  {
   "cell_type": "markdown",
   "metadata": {},
   "source": [
    "\\begin{align*}\n",
    "\\frac{\\partial \\hat{S}}{\\partial C_j} &= -\\begin{bmatrix}\n",
    "A_{11}^{-1} & \\dots & A_{1M}^{-1} \\\\\n",
    "\\vdots & \\ddots & \\\\\n",
    "A_{M1}^{-1} & \\dots & A_{MM}^{-1}\n",
    "\\end{bmatrix}\n",
    "\\begin{bmatrix}\n",
    "L_{11} & \\dots & L_{M1} \\\\\n",
    "\\vdots & \\ddots & \\\\\n",
    "L_{1M} & \\dots & L_{MM} \n",
    "\\end{bmatrix}\n",
    "\\begin{bmatrix}\n",
    "u_{j1}\\hat{S_1} \\\\\n",
    "\\vdots \\\\\n",
    "u_{jM}\\hat{S_M}\n",
    "\\end{bmatrix} \\\\\n",
    "& = -\\begin{bmatrix}\n",
    "A_{11}^{-1} & \\dots & A_{1M}^{-1} \\\\\n",
    "\\vdots & \\ddots & \\\\\n",
    "A_{M1}^{-1} & \\dots & A_{MM}^{-1}\n",
    "\\end{bmatrix} \n",
    "\\begin{bmatrix}\n",
    "\\sum_\\gamma L_{\\gamma 1}u_{j\\gamma}\\hat{S_\\gamma} \\\\\n",
    "\\vdots \\\\\n",
    "\\sum_\\gamma L_{\\gamma M}u_{j\\gamma}\\hat{S_\\gamma}\n",
    "\\end{bmatrix} \\\\\n",
    "& = -\\begin{bmatrix}\n",
    "\\sum_{\\beta \\gamma}A_{1\\beta }^{-1} L_{\\gamma \\beta}u_{j\\gamma}\\hat{S_\\gamma} \\\\\n",
    "\\vdots \\\\\n",
    "\\sum_{\\beta \\gamma}A_{M\\beta }^{-1} L_{\\gamma \\beta}u_{j\\gamma}\\hat{S_\\gamma}\n",
    "\\end{bmatrix}\n",
    "\\end{align*}\n"
   ]
  },
  {
   "cell_type": "markdown",
   "metadata": {},
   "source": [
    "Therefore for each $S_\\alpha$, there is: \n",
    "\\begin{equation}\n",
    "\\frac{\\partial \\hat{S_{\\alpha}}}{\\partial C_j} = -\\sum_{\\beta \\gamma} A_{\\alpha\\beta}^{-1} L_{\\gamma \\beta} u_{j \\gamma} \\hat{S_\\gamma}\n",
    "\\end{equation}"
   ]
  },
  {
   "cell_type": "markdown",
   "metadata": {},
   "source": [
    "Inserting this back into equation 9 for the interaction coefficient: \n",
    "\\begin{align}\n",
    "\\alpha_{ij} &= \\sum_\\alpha u_{i \\alpha}(1-l_\\alpha)\\frac{\\partial \\hat{S_\\alpha}}{\\partial C_j} \\nonumber \\\\\n",
    "& = \\sum_\\alpha u_{i \\alpha}(1-l_\\alpha)(-\\sum_{\\gamma \\beta}A_{\\alpha \\gamma}^{-1} L_{\\beta \\gamma} u_{j\\beta} \\hat{S_\\beta}) \\\\\n",
    "&= -\\sum_{\\alpha\\beta} u_{i \\alpha}(1-l_\\alpha) W_{\\alpha\\beta}u_{j\\beta}\n",
    "\\end{align}\n",
    "\n",
    "Where $ W_{\\alpha\\beta} = \\sum_\\gamma A_{\\alpha \\gamma}^{-1} L_{\\beta \\gamma} \\hat{S_\\beta}$ ."
   ]
  },
  {
   "cell_type": "markdown",
   "metadata": {},
   "source": [
    "#### 1 species + 1 resource\n",
    "\\begin{equation*}\n",
    "\\hat{S} = \\frac{m}{u(1-l)} ; \\hat{C} = \\frac{\\rho}{m}\n",
    "\\end{equation*}\n",
    "\n"
   ]
  },
  {
   "cell_type": "markdown",
   "metadata": {},
   "source": [
    "#### 2 species + 1 resource \n",
    "\\begin{align*}\n",
    "&\\frac{dC_i}{dt} = C_i(u_{i\\alpha}\\hat{S_\\alpha}(1-l_{\\alpha}) - R_i) \\\\\n",
    "&\\frac{dC_j}{dt} = C_j(u_{j\\alpha}\\hat{S_\\alpha}(1-l_{\\alpha}) - R_j) \\\\\n",
    "&\\frac{dS}{dt} = \\rho_\\alpha-(C_iu_{i\\alpha}+C_ju_{j\\alpha})\\hat{S_\\alpha}(1-l_{\\alpha\\alpha})\n",
    "\\end{align*}\n",
    "\n",
    "At resource equilibrium: \n",
    "\\begin{align}\n",
    "\\rho_\\alpha - \\sum_j C_j u_{j\\alpha}\\hat{S_\\alpha}(1- l_{\\alpha\\alpha}) = 0 \\nonumber \\\\\n",
    "u_{j\\alpha}\\hat{S_\\alpha} (1-l_{\\alpha\\alpha}) + \\sum_j C_j u_{j\\alpha} \\frac{\\partial \\hat{S_\\alpha}}{\\partial C_j} = 0 \\nonumber \\\\\n",
    "\\frac{\\partial \\hat{S_\\alpha}}{\\partial C_j} = -\\frac{u_{j\\alpha}\\hat{S_\\alpha}}{C_iu_{i\\alpha}+C_ju_{j\\alpha}}\n",
    "\\end{align}\n",
    "\n",
    "Inserting into $\\alpha_{ij}$ in equation 8:\n",
    "\\begin{align}\n",
    "\\alpha_{ij} & = \\sum_\\alpha u_{i\\alpha}(1 - l_\\alpha)\\frac{\\partial \\hat{S_\\alpha}}{\\partial C_j} \\nonumber \\\\\n",
    "& = -\\frac{u_{i\\alpha}u_{j\\alpha}(1-l_\\alpha)\\hat{S_\\alpha}}{C_iu_{i\\alpha}+ C_ju_{j\\alpha}}\n",
    "\\end{align}"
   ]
  },
  {
   "cell_type": "markdown",
   "metadata": {},
   "source": [
    "Then at equilibrium: \n",
    "\\begin{align}\n",
    "\\because \\rho_\\alpha = (C_iu_{i\\alpha}+C_ju_{j\\alpha})\\hat{S_\\alpha}(1-l_{\\alpha\\alpha}) \\nonumber \\\\\n",
    " C_iu_{i\\alpha}+C_ju_{j\\alpha} = \\frac{\\rho_\\alpha}{\\hat{S_\\alpha}(1-l_{\\alpha\\alpha})} \\nonumber \\\\\n",
    "\\therefore \\alpha_{ij} = -\\frac{u_{i\\alpha}u_{j\\alpha}(1-l_\\alpha)(1-l_{\\alpha\\alpha})\\hat{S_\\alpha}^2}{\\rho_\\alpha}\n",
    "\\end{align}"
   ]
  },
  {
   "cell_type": "markdown",
   "metadata": {},
   "source": [
    "##### Temperature dependencies - using the Arrhenius for now\n",
    "\n",
    "\n",
    "\\begin{equation*}\n",
    "B = B_0 \\times {e^{\\frac{-E}{k}\\cdot\\Bigl(\\frac{1}{T} - \\frac{1}{T_r}\\Bigl)}}\n",
    "\\end{equation*}\n",
    "\n",
    "\n",
    "| Parameter symbol | Parameter name | Units | Initial value |\n",
    "|---|---|---|---|\n",
    "| $B$ | Normalisation constant | - | Obs |\n",
    "| $E$ | Activation energy | eV | Obs |\n",
    "| $k$ | Boltsmann constant | eV/K | $8.62$ $\\times 10^{-5}$ |\n",
    "| T | Temperature | K | 283.15-303.15 |\n",
    "| $T_r$| Reference temperature | K | 273.15 |"
   ]
  },
  {
   "cell_type": "markdown",
   "metadata": {},
   "source": [
    "Since in the equation for $\\alpha$ only $U$s are temperature dependent: \n",
    "\n",
    "\\begin{align*}\n",
    "u_{i\\alpha} = u_{i0} \\times e^{\\frac{-E_{ui}}{k}\\cdot\\Bigl(\\frac{1}{T} - \\frac{1}{T_r}\\Bigl)} ; u_{j\\alpha} = u_{j0} \\times e^{\\frac{-E_{uj}}{k}\\cdot\\Bigl(\\frac{1}{T} - \\frac{1}{T_r}\\Bigl)} \\\\\n",
    "\\therefore \\alpha_{ij} = -\\frac{(1-l_\\alpha)^2\\hat{S_\\alpha}^2}{\\rho_\\alpha}u_{i0} u_{j0} \\times e^{-\\frac{E_{ui}+E_{uj}}{k}\\cdot\\Bigl(\\frac{1}{T} - \\frac{1}{T_r}\\Bigl)}\n",
    "\\end{align*}\n",
    "\n",
    "Therefore getting the temperature performance of $\\alpha$: \n",
    "\\begin{align}\n",
    "&\\alpha_{ij0} = -\\frac{(1-l_\\alpha)^2\\hat{S_\\alpha}^2}{\\rho_\\alpha}u_{i0} u_{j0} \\\\\n",
    "&E_{\\alpha_{ij}} = E_{ui} +E_{uj}\n",
    "\\end{align}"
   ]
  },
  {
   "cell_type": "markdown",
   "metadata": {},
   "source": [
    "##### Another way to calculate $\\alpha$ and $r$ (!! Ignore !! not needed anymore):\n",
    "\n",
    "If consider species intrinsic growth rate $r_i$ as maximum growth rate, it should when all resources are dedicated to the growth of species $i$. In this case, at equilibrium $\\hat{S}^* = \\frac{\\rho}{\\hat{C_i}^* U_i(1-l)}$ (here using * to denote values from the 1 species system), inserting into the biomass dynamics of species $i$:\n",
    "\n",
    "\\begin{align*}\n",
    "\\frac{dC_i}{dt} & = C_i(\\frac{\\rho}{\\hat{C_i}^* } - R_i) \\\\\n",
    "& = C_i(r_i + \\alpha_{ii}C_i)\n",
    "\\end{align*}\n",
    "\n",
    "Getting:\n",
    "\\begin{equation*}\n",
    "r_i = \\frac{\\rho}{\\hat{C_i}^* } - R_i - \\alpha_{ii}C_i \n",
    "\\end{equation*}\n",
    "then back calculate into equation 11 & 12, getting the interaction between species $i$ and $j$: \n",
    "\\begin{equation*}\n",
    "\\alpha_{ij} = -\\frac{\\frac{\\rho}{\\hat{C_i}^* } - \\frac{U_i\\rho}{C_iU_i+C_jU_j}}{C_j}\n",
    "\\end{equation*}\n",
    "\n",
    "If i = j, the system comes back to be of 1 species. If can assume when $S$ reaches equilibrium, $C_i \\approx \\hat{C_i}^*$, and assume $\\alpha_{ii}$ remains regardless of the system (i.e. not affected by the presence of species $j$), then can get intraspecies interaction: \n",
    "\\begin{equation*}\n",
    "\\alpha_{ii} = -\\frac{\\rho}{2C_i^2}\n",
    "\\end{equation*}"
   ]
  },
  {
   "cell_type": "markdown",
   "metadata": {},
   "source": [
    "#### 2 species + 2 resources\n",
    "\n",
    "\\begin{align*}\n",
    "\\frac{dS_\\alpha}{dt} = \\rho_\\alpha - (C_iu_{i\\alpha}+C_ju_{j\\alpha})S_\\alpha(1-l_{\\alpha\\alpha}) + (C_iu_{i\\beta}+C_ju_{j\\beta})S_\\beta l_{\\beta \\alpha} \\\\\n",
    "\\frac{dS_\\beta}{dt} = \\rho_\\beta - (C_iu_{i\\beta}+C_ju_{j\\beta})S_\\beta(1-l_{\\beta\\beta}) + (C_iu_{i\\alpha}+C_ju_{j\\alpha})S_\\alpha l_{\\alpha \\beta}\n",
    "\\end{align*}\n",
    "\n",
    "At equilibrium, both $\\frac{dS_\\alpha}{dt}$ and $\\frac{dS_\\beta}{dt}$ are 0. Taking partial derivative on $C_j$:\n",
    "\n",
    "\\begin{align*}\n",
    "u_{j\\alpha}\\hat{S_\\alpha}(1-l_{\\alpha\\alpha}) - u_{j\\beta}l_{\\beta \\alpha}\\hat{S_\\beta} + (C_iu_{i\\alpha} + C_ju_{j\\alpha})(1-l_{\\alpha\\alpha})\\frac{\\partial \\hat{S_\\alpha}}{\\partial C_j} - (C_iu_{i\\beta} + C_ju_{j\\beta})l_{\\beta \\alpha}\\frac{\\partial \\hat{S_\\beta}}{\\partial C_j} = 0 \\\\\n",
    "u_{j\\beta}\\hat{S_\\beta}(1-l_{\\beta \\beta}) - u_{j\\alpha}l_{\\alpha \\beta}\\hat{S_\\alpha} + (C_iu_{i\\beta} + C_ju_{j\\beta})(1-l_{\\beta \\beta})\\frac{\\partial \\hat{S_\\beta}}{\\partial C_j} - (C_iu_{i\\alpha} + C_ju_{j\\alpha})l_{\\alpha \\beta}\\frac{\\partial \\hat{S_\\alpha}}{\\partial C_j} = 0\n",
    "\\end{align*}\n",
    "\n",
    "Rearranging, getting:\n",
    "\\begin{align*}\n",
    "\\frac{\\partial \\hat{S_\\alpha}}{\\partial C_j} = -\\frac{u_{j\\alpha}\\hat{S_\\alpha}}{C_iu_{i\\alpha}+C_ju_{j\\alpha}} \\\\\n",
    "\\frac{\\partial \\hat{S_\\beta}}{\\partial C_j} = -\\frac{u_{j\\beta}\\hat{S_\\beta}}{C_iu_{i\\beta}+C_ju_{j\\beta}}\n",
    "\\end{align*}\n",
    "\n",
    "Inserting into $\\alpha_{ij}$ in equation 8:\n",
    "\n",
    "\\begin{align}\n",
    "\\alpha_{ij} & = \\sum_\\alpha u_{i\\alpha}(1 - l_\\alpha)\\frac{\\partial \\hat{S_\\alpha}}{\\partial C_j} \\nonumber \\\\\n",
    "& = -\\left(\\frac{u_{i\\alpha}u_{j\\alpha}(1-l_\\alpha)\\hat{S_\\alpha}}{C_iu_{i\\alpha}+ C_ju_{j\\alpha}} + \\frac{u_{i\\beta}u_{j\\beta}(1-l_\\beta)\\hat{S_\\beta}}{C_iU_{i\\beta}+ C_ju_{j\\beta}} \\right)\n",
    "\\end{align}\n",
    "\n",
    "At equilibium, \n",
    "\n",
    "\\begin{align*}\n",
    "\\because &\\frac{1}{C_iu_{i\\alpha}+C_ju_{j\\alpha}} = \\frac{1-l_{\\alpha\\alpha} - \\frac{l_{\\alpha\\beta} l_{\\beta \\alpha}}{1-l_{\\beta \\beta}}}{\\rho_\\alpha + \\frac{\\rho_\\beta l_{\\beta \\alpha}}{1-l_{\\beta \\beta}}}\\hat{S_\\alpha} \\\\\n",
    "&\\frac{1}{C_iu_{i\\beta}+C_ju_{j\\beta}} = \\frac{1-l_{\\beta \\beta} - \\frac{l_{\\beta \\alpha} l_{\\alpha \\beta}}{1-l_{\\alpha \\alpha}}}{\\rho_\\beta + \\frac{\\rho_\\alpha l_{\\alpha \\beta}}{1-l_{\\alpha \\alpha}}}\\hat{S_\\beta} \n",
    "\\end{align*}\n",
    "\n"
   ]
  },
  {
   "cell_type": "markdown",
   "metadata": {},
   "source": [
    "\\begin{align}\n",
    "\\therefore \\alpha_{ij} & = -\\left( u_{i\\alpha}u_{j\\alpha}\\frac{\\hat{S_\\alpha}^2(1-l_\\alpha)(1-l_{\\alpha\\alpha} - \\frac{l_{\\alpha\\beta} l_{\\beta \\alpha}}{1-l_{\\beta \\beta}})}{\\rho_\\alpha+\\frac{\\rho_\\beta l_{\\beta \\alpha}}{1-l_{\\beta \\beta}}} + u_{i\\beta} u_{j\\beta} \\frac{\\hat{S_\\beta}^2(1-l_\\beta)(1-l_{\\beta \\beta} - \\frac{l_{\\beta \\alpha} l_{\\alpha \\beta}}{1-l_{\\alpha\\alpha}})}{\\rho_\\beta + \\frac{\\rho_\\alpha l_{\\alpha \\beta}}{1-l_{\\alpha\\alpha}}} \\right) \\\\\n",
    "& = -(u_{i\\alpha}u_{j\\alpha} \\cdot \\hat{A}+u_{i\\beta}u_{j\\beta} \\cdot \\hat{B}) \\nonumber\n",
    "\\end{align}\n",
    "\n",
    "The asigned $\\hat{A}$ and $\\hat{B}$ parts in the above equation does not contain temperature dependent parameters. \n",
    "\n",
    "The temperature depencencies of resources uptake are at species level, as: \n",
    "\n",
    "\\begin{align*}\n",
    "u_{i\\alpha}+u_{i\\beta} = u_i(T) = u_{i0}e^{-\\frac{E_{u_i}}{k}\\cdot\\Bigl(\\frac{1}{T} - \\frac{1}{T_r}\\Bigl)} \\\\\n",
    "u_{j\\alpha}+u_{j\\beta} = u_j(T) = u_{j0}e^{-\\frac{E_{u_j}}{k}\\cdot\\Bigl(\\frac{1}{T} - \\frac{1}{T_r}\\Bigl)}\n",
    "\\end{align*}\n",
    "\n",
    "If consider the uptake of resource $\\alpha$ is of a proportion $p$ of the total resource uptake by each species, as: \n",
    "\\begin{align*}\n",
    "u_{i\\alpha} = p_iu_i; u_{i\\beta} = (1-p_i)u_i \\\\\n",
    "u_{j\\alpha} = p_ju_j; u_{j\\beta} = (1-p_j)u_j\n",
    "\\end{align*}\n",
    "\n",
    "Insert these and the Arrhenius equation into $\\alpha_{ij}$: \n",
    "\\begin{align*}\n",
    "\\alpha_{ij} & = -\\left(p_iu_{i0}e^{-\\frac{E_{u_i}}{k}\\cdot\\Bigl(\\frac{1}{T} - \\frac{1}{T_r}\\Bigl)}\\cdot p_ju_{j0}e^{-\\frac{E_{u_j}}{k}\\cdot\\Bigl(\\frac{1}{T} - \\frac{1}{T_r}\\Bigl)} \\cdot \\hat{A} + (1-p_i) u_{i0}e^{-\\frac{E_{u_i}}{k}\\cdot\\Bigl(\\frac{1}{T} - \\frac{1}{T_r}\\Bigl)} \\cdot (1-p_j) u_{j0}e^{-\\frac{E_{u_j}}{k}\\cdot\\Bigl(\\frac{1}{T} - \\frac{1}{T_r}\\Bigl)} \\cdot \\hat{B} \\right) \\\\\n",
    "& = -\\left(p_ip_j \\cdot \\hat{A} + (1-p_i)(1-p_j)\\cdot \\hat{B} \\right) u_{i0}u_{j0}e^{-\\frac{E_{u_i}+E_{u_j}}{k}\\cdot\\Bigl(\\frac{1}{T} - \\frac{1}{T_r}\\Bigl)}\n",
    "\\end{align*}\n",
    "\n",
    "Therefore getting the temperature performance of $\\alpha$: \n",
    "\\begin{align}\n",
    "&\\alpha_{ij0} = \\left(p_ip_j \\cdot \\hat{A} + (1-p_i)(1-p_j)\\cdot \\hat{B} \\right) u_{i0}u_{j0} \\\\\n",
    "&E_{\\alpha_{ij}} = E_{ui} +E_{uj}\n",
    "\\end{align}"
   ]
  },
  {
   "cell_type": "code",
   "execution_count": 1,
   "metadata": {},
   "outputs": [
    {
     "name": "stdout",
     "output_type": "stream",
     "text": [
      "Equilibrium biomass and resources concentrations:\n",
      " [[0.5216 0.4933 0.8682 0.5762]\n",
      " [0.3799 0.1857 1.1703 0.437 ]\n",
      " [0.2645 0.0683 1.4753 0.3251]\n",
      " [0.1889 0.0187 1.7898 0.2333]\n",
      " [0.1358 0.     1.9319 0.1666]]\n",
      "Variation in equilibrium resources: 0.3894 ; biomass: 0.0314\n",
      "α0 at all temps: [-1.2018 -1.0082 -1.0382 -1.2401 -1.3431] ; mean: -1.1663 ; std: 0.126\n",
      "α at all temps: [  -1.2018   -3.7717  -13.8689  -56.5815 -200.3026]\n",
      "Estimation by Arrhenius: [  -1.1663   -4.3631  -15.5796  -53.2265 -174.3811]\n"
     ]
    },
    {
     "data": {
      "image/png": "[encoded data removed]",
      "text/plain": [
       "<Figure size 432x288 with 1 Axes>"
      ]
     },
     "metadata": {
      "needs_background": "light"
     },
     "output_type": "display_data"
    },
    {
     "name": "stdout",
     "output_type": "stream",
     "text": [
      "Equilibrium biomass and resources concentrations:\n",
      " [[ 0.2798  1.021   0.4585  0.6949]\n",
      " [ 0.      0.7701  0.3675  0.3824]\n",
      " [-0.      0.4587  0.2338  0.2433]\n",
      " [-0.      0.2784  0.1523  0.1585]\n",
      " [ 0.      0.1737  0.1092  0.1137]]\n",
      "Variation in equilibrium resources: 0.0312 ; biomass: 0.1143\n",
      "α0 at all temps: [-1.0958 -0.5495 -0.2224 -0.0944 -0.0485] ; mean: -0.4021 ; std: 0.3886\n",
      "α at all temps: [ -1.0958  -3.8047  -9.9502 -25.3467 -67.15  ]\n",
      "Estimation by Arrhenius: [-4.021000e-01 -2.784500e+00 -1.800770e+01 -1.091530e+02 -6.221807e+02]\n"
     ]
    },
    {
     "data": {
      "image/png": "[encoded data removed]",
      "text/plain": [
       "<Figure size 432x288 with 1 Axes>"
      ]
     },
     "metadata": {
      "needs_background": "light"
     },
     "output_type": "display_data"
    },
    {
     "name": "stdout",
     "output_type": "stream",
     "text": [
      "Equilibrium biomass and resources concentrations:\n",
      " [[1.0864 0.2767 0.8619 0.4685]\n",
      " [0.6148 0.1618 0.7748 0.3825]\n",
      " [0.3551 0.0949 0.6983 0.3141]\n",
      " [0.209  0.0556 0.6308 0.2598]\n",
      " [0.1245 0.0341 0.5698 0.2214]]\n",
      "Variation in equilibrium resources: 0.0449 ; biomass: 0.0952\n",
      "α0 at all temps: [-0.9326 -0.7081 -0.5455 -0.426  -0.3387] ; mean: -0.5902 ; std: 0.2113\n",
      "α at all temps: [ -0.9326  -2.7115  -7.6275 -20.7532 -53.8535]\n",
      "Estimation by Arrhenius: [ -0.5902  -2.2601  -8.254  -28.8195 -96.4237]\n"
     ]
    },
    {
     "data": {
      "image/png": "[encoded data removed]",
      "text/plain": [
       "<Figure size 432x288 with 1 Axes>"
      ]
     },
     "metadata": {
      "needs_background": "light"
     },
     "output_type": "display_data"
    }
   ],
   "source": [
    "from Community_model import ass_temp_run\n",
    "import matplotlib.pylab as plt\n",
    "import numpy as np\n",
    "\n",
    "N = 2 # Number of consumers\n",
    "M = 2 # Number of resources\n",
    "\n",
    "# Temperature params\n",
    "Tref = 273.15 + 0 # Reference temperature Kelvin\n",
    "Ma = 1 # Mass\n",
    "Ea_D = 3.5 # Deactivation energy - only used if use Sharpe-Schoolfield temp-dependance\n",
    "lf = 0.4 # Leakage\n",
    "p_value = 1 # External input resource concentration\n",
    "\n",
    "# Assembly\n",
    "typ = 1 # Functional response, Type I or II\n",
    "K = 5 # Half saturation constant\n",
    "k = 0.0000862 # Boltzman constant\n",
    "\n",
    "for rs in range(3):\n",
    "\n",
    "    alpha_all = np.empty((0))\n",
    "    alpha_all_0 = np.empty((0))\n",
    "    results_all = np.empty((0,4))\n",
    "    ##### Intergrate system forward #####\n",
    "\n",
    "    for i in range(5):\n",
    "        T = 273.15 + 5*i # Temperature\n",
    "        np.random.seed(rs)\n",
    "        result_array, alpha_0, alpha_E, alpha = ass_temp_run(N, M, T, Tref, Ma, Ea_D, lf, p_value, typ, K)\n",
    "        alpha_all_0 = np.append(alpha_all_0, alpha_0)\n",
    "        alpha_all = np.append(alpha_all, alpha)\n",
    "        results_all = np.append(results_all, [result_array[len(result_array)-1,:]], axis = 0)\n",
    "\n",
    "    T_plot = np.array(range(0, 25, 5))+273.15\n",
    "    y = np.mean(alpha_all_0) * np.exp((-alpha_E/k) * ((1/T_plot)-(1/Tref)))\n",
    "    \n",
    "    print(\"Equilibrium biomass and resources concentrations:\\n\", np.round(results_all,4))\n",
    "    print(\"Variation in equilibrium resources:\", np.round(np.var(results_all[:,N:N+M]),4), \"; biomass:\", np.round(np.var(results_all[:,0:N]),4))\n",
    "    print(\"α0 at all temps:\" , np.round(alpha_all_0,4), \"; mean:\", np.round(np.mean(alpha_all_0), 4), \"; std:\", np.round(np.std(alpha_all_0),4))\n",
    "    print(\"α at all temps:\" , np.round(alpha_all,4))\n",
    "    print(\"Estimation by Arrhenius:\", np.round(y,4))\n",
    "\n",
    "    plt.plot(T_plot - 273.15, alpha_all, label = \"alpha\")\n",
    "    plt.plot(T_plot - 273.15, y, label = \"estimation\")\n",
    "    plt.xlabel(\"T\")\n",
    "    plt.title(f\"Scenario %d\" %(rs+1))\n",
    "    plt.legend()\n",
    "    plt.show()"
   ]
  }
 ],
 "metadata": {
  "kernelspec": {
   "display_name": "Python 3",
   "language": "python",
   "name": "python3"
  },
  "language_info": {
   "codemirror_mode": {
    "name": "ipython",
    "version": 3
   },
   "file_extension": ".py",
   "mimetype": "text/x-python",
   "name": "python",
   "nbconvert_exporter": "python",
   "pygments_lexer": "ipython3",
   "version": "3.8.3"
  },
  "latex_envs": {
   "LaTeX_envs_menu_present": true,
   "autoclose": false,
   "autocomplete": true,
   "bibliofile": "biblio.bib",
   "cite_by": "apalike",
   "current_citInitial": 1,
   "eqLabelWithNumbers": true,
   "eqNumInitial": 1,
   "hotkeys": {
    "equation": "Ctrl-E",
    "itemize": "Ctrl-I"
   },
   "labels_anchors": false,
   "latex_user_defs": false,
   "report_style_numbering": false,
   "user_envs_cfg": false
  }
 },
 "nbformat": 4,
 "nbformat_minor": 4
}
