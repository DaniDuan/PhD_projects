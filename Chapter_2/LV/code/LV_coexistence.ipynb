{
 "cells": [
  {
   "cell_type": "markdown",
   "metadata": {},
   "source": [
    "# Coexistence Condition by LV\n",
    "\n",
    "## The Lotka–Volterra model\n",
    "\n",
    "\\begin{equation}\n",
    "\\frac{1}{C_i}\\frac{dC_i}{dt}  =r_i(T) + \\alpha_{ii}(T)C_i+\\sum_{j \\neq i}^N \\alpha_{ij}(T)C_j\n",
    "\\end{equation}\n",
    "\n",
    "| Parameter symbol | Parameter name | Initial value |\n",
    "|---|---|---|\n",
    "| $N$ | Number of species | 3 |\n",
    "| $C_i$ | Species biomass | Obs |\n",
    "| $r_i$ | Maximum growth rate | Temperature dependent |\n",
    "| $\\alpha_{ii}$ | Intraspecies interaction | Temperature dependent |\n",
    "| $\\alpha_{ij}$ | Interspecies interaction | Temperature dependant |\n",
    "\n",
    "For positive interaction: $\\alpha_{ij}>0$; for negative interaction: $\\alpha_{ij}<0$"
   ]
  },
  {
   "cell_type": "markdown",
   "metadata": {},
   "source": [
    "### At steady state\n",
    "#### 1 species\n",
    "\n",
    "\\begin{equation*}\n",
    "C_i = \\frac{r_i}{-\\alpha_{ii}}\n",
    "\\end{equation*}\n",
    "\n",
    "Carrying capacity $K_i = r_i/\\alpha_{ii}$\n",
    "\n",
    "#### 2 species\n",
    "\n",
    "\\begin{equation*}\n",
    "\\frac{dC_i}{dt}  =C_i(r_i + \\alpha_{ii}C_i +\\alpha C_j) ; \\frac{dC_j}{dt}  =C_j(r_j + \\alpha_{jj}C_j +\\alpha C_i)\n",
    "\\end{equation*}\n",
    "\n",
    "\\begin{equation*}\n",
    "C_i = -\\frac{\\alpha_{jj}r_i + \\alpha r_j}{\\alpha_{ii}\\alpha_{jj} - \\alpha^2}\n",
    "\\end{equation*}\n",
    "\n",
    "#### Multiple species\n",
    "\n",
    "\\begin{equation*}\n",
    "C_i = -\\frac{r_i + \\sum_{j \\neq i}^N \\alpha_{ij}C_j}{\\alpha_{ii}}\n",
    "\\end{equation*}"
   ]
  },
  {
   "cell_type": "markdown",
   "metadata": {},
   "source": [
    "### 2 species system\n",
    "- following the paper (Strobeck, C., 1973. N species competition. Ecology, 54(3), pp.650-654.)\n",
    "\n",
    "Condition for coexistence: \n",
    "\\begin{align*}\n",
    "\\begin{bmatrix} r_i & -\\alpha_{ij} \\\\ r_j & -\\alpha_{jj} \\end{bmatrix}  > 0 ,\n",
    "\\begin{bmatrix} -\\alpha_{ii} & r_i \\\\ -\\alpha_{ji} & r_j \\end{bmatrix} > 0\n",
    "\\end{align*}"
   ]
  },
  {
   "cell_type": "markdown",
   "metadata": {},
   "source": [
    "\n",
    "### 3 species system\n",
    "\n",
    "\\begin{align}\n",
    "\\frac{dC_i}{dt} = C_i(r_i + \\alpha_{ii}C_i + \\alpha_{ij}C_j + \\alpha_{ik}C_k) \\\\\n",
    "\\frac{dC_j}{dt} = C_j(r_j + \\alpha_{jj}C_j + \\alpha_{ji}C_i + \\alpha_{jk}C_k) \\\\\n",
    "\\frac{dC_k}{dt} = C_k(r_i + \\alpha_{kk}C_k + \\alpha_{ki}C_i + \\alpha_{kj}C_j)\n",
    "\\end{align}\n",
    "\n",
    "At equilibrium: \n",
    "\n",
    "\\begin{equation*}\n",
    "\\begin{bmatrix} r_i \\\\ r_j \\\\ r_k \\end{bmatrix} = - \\begin{bmatrix} \\alpha_{ii} & \\alpha_{ij} & \\alpha_{ik} \\\\ \\alpha_{ji} & \\alpha_{jj} & \\alpha_{jk} \\\\ \\alpha_{ki} & \\alpha_{kj} & \\alpha_{kk} \\end{bmatrix} \\begin{bmatrix} \\hat{C_i} \\\\ \\hat{C_j} \\\\ \\hat{C_k} \\end{bmatrix}\n",
    "\\end{equation*}\n",
    "\n",
    "Solving this equilibrium abundance following Cramer's rule:\n",
    "\n",
    "\\begin{align*}\n",
    "\\hat{C_i} = \\frac{\\begin{bmatrix} r_i & -\\alpha_{ij} & -\\alpha_{ik} \\\\ r_j & -\\alpha_{jj} & -\\alpha_{jk} \\\\ r_k & -\\alpha_{kj} & -\\alpha_{kk} \\end{bmatrix}}{\\mathbf{|A|}} , \n",
    "\\hat{C_j} = \\frac{\\begin{bmatrix} -\\alpha_{ii} & r_i & -\\alpha_{ik} \\\\ -\\alpha_{ji} & r_j & -\\alpha_{jk} \\\\ -\\alpha_{ki} & r_k & -\\alpha_{kk} \\end{bmatrix}}{\\mathbf{|A|}} , \n",
    "\\hat{C_k} = \\frac{\\begin{bmatrix} -\\alpha_{ii} & -\\alpha_{ij} & r_i \\\\ -\\alpha_{ji} & -\\alpha_{jj} & r_j \\\\ -\\alpha_{ki} & -\\alpha_{kj} & r_k \\end{bmatrix}}{\\mathbf{|A|}}\n",
    "\\end{align*}\n",
    "\n",
    "Here we have the first condition for coexistence, that equilibrium abundance for all species should be higher than $0$, which is: \n",
    "\n",
    "\\begin{align} \n",
    "\\begin{vmatrix} r_i & -\\alpha_{ij} & -\\alpha_{ik} \\\\ r_j & -\\alpha_{jj} & -\\alpha_{jk} \\\\ r_k & -\\alpha_{kj} & -\\alpha_{kk} \\end{vmatrix} > 0 ,\n",
    "\\begin{vmatrix} -\\alpha_{ii} & r_i & -\\alpha_{ik} \\\\ -\\alpha_{ji} & r_j & -\\alpha_{jk} \\\\ -\\alpha_{ki} & r_k & -\\alpha_{kk} \\end{vmatrix} > 0 , \n",
    "\\begin{vmatrix} -\\alpha_{ii} & -\\alpha_{ij} & r_i \\\\ -\\alpha_{ji} & -\\alpha_{jj} & r_j \\\\ -\\alpha_{ki} & -\\alpha_{kj} & r_k \\end{vmatrix} > 0\n",
    "\\end{align}"
   ]
  },
  {
   "cell_type": "markdown",
   "metadata": {},
   "source": [
    "The second condition is that this equilibrium is stable. At equilibrium, for $d\\hat{C_i}/dt = f_1(\\hat{C_i}, \\hat{C_j}, \\hat{C_k})$ ; $d\\hat{C_j}/dt = f_2(\\hat{C_i}, \\hat{C_j}, \\hat{C_k})$ ; $d\\hat{C_k}/dt = f_3(\\hat{C_i}, \\hat{C_j}, \\hat{C_k})$, we have the Jacobian matrix as: \n",
    "\n",
    "\\begin{align*}\n",
    "\\mathbf{J} & = \\begin{bmatrix} \\frac{\\partial f_1}{\\partial \\hat{C_i}} & \\frac{\\partial f_1}{\\partial \\hat{C_j}} & \\frac{\\partial f_1}{\\partial \\hat{C_k}} \\\\ \\frac{\\partial f_2}{\\partial \\hat{C_i}} & \\frac{\\partial f_2}{\\partial \\hat{C_j}} & \\frac{\\partial f_2}{\\partial \\hat{C_k}} \\\\ \\frac{\\partial f_3}{\\partial \\hat{C_i}} & \\frac{\\partial f_3}{\\partial \\hat{C_j}} & \\frac{\\partial f_3}{\\partial \\hat{C_k}} \\end{bmatrix} \\\\\n",
    "& = \\begin{bmatrix} \\alpha_{ii}\\hat{C_i} & \\alpha_{ij}\\hat{C_i} & \\alpha_{ik} \\hat{C_i} \\\\ \\alpha_{ji}\\hat{C_j} & \\alpha_{jj}\\hat{C_j} & \\alpha_{jk}\\hat{C_j} \\\\ \\alpha_{ki}\\hat{C_k} & \\alpha_{kj}\\hat{C_k} & \\alpha_{kk}\\hat{C_k} \\end{bmatrix}\n",
    "\\end{align*}\n",
    "\n",
    "For the equilibrium to be stable, requires all eigenvalues of this Jacobian to have negative real parts, therefore setting $|\\mathbf{J} - \\mathbf{I}\\lambda| = 0$, which is: \n",
    "\\begin{align*}\n",
    "    \\lambda^3 - (\\alpha_{ii}\\hat{C_i} + \\alpha_{jj}\\hat{C_j} + \\alpha_{kk}\\hat{C_k})\\lambda^2 + [\\alpha_{ii}\\alpha_{jj}\\hat{C_i}\\hat{C_j} + \\alpha_{ii}\\alpha_{kk}\\hat{C_i}\\hat{C_k} +\\alpha_{jj}\\alpha_{kk}\\hat{C_j}\\hat{C_k} - (\\alpha_{ij}\\alpha_{ji}\\hat{C_i}\\hat{C_j} \\\\\n",
    "    + \\alpha_{ik}\\alpha_{ki}\\hat{C_i}\\hat{C_k} + \\alpha_{jk}\\alpha_{kj}\\hat{C_j}\\hat{C_k})]\\lambda - \\hat{C_i}\\hat{C_j}\\hat{C_k}\\cdot\\mathbf{|A|} = 0,\n",
    "\\end{align*}\n",
    "Applying the Routh–Hurwitz criterion for a third-order polynomial, we can set: \n",
    "\\begin{align*}\n",
    "    a_1 = &- \\sum^n_i \\alpha_{ii}\\hat{C_i}, \\\\\n",
    "    a_2 = & \\sum^n_i\\sum^{i-1}_j\\hat{C_i}\\hat{C_j}\\cdot \\begin{vmatrix}\n",
    "        \\alpha_{ii} & \\alpha_{ij} \\\\ \\alpha_{ji} & \\alpha_{jj}\n",
    "    \\end{vmatrix}, \\\\\n",
    "    a_3 = & -\\hat{C_i}\\hat{C_j}\\hat{C_k}\\cdot\\mathbf{|A|},\n",
    "\\end{align*}\n",
    "For all roots of this polynomial to have negative real parts, requires: \n",
    "\\begin{equation}\n",
    "\\begin{cases}\n",
    "    a_1 > 0, a_2 > 0, a_3 > 0 \\\\\n",
    "    a_1a_2 - a_3 > 0 \n",
    "\\end{cases},\n",
    "\\end{equation} which is the second condition for 3 species' coexistence in this system. "
   ]
  }
 ],
 "metadata": {
  "kernelspec": {
   "display_name": "Julia 1.7.3",
   "language": "julia",
   "name": "julia-1.7"
  },
  "language_info": {
   "file_extension": ".jl",
   "mimetype": "application/julia",
   "name": "julia",
   "version": "1.7.3"
  },
  "latex_envs": {
   "LaTeX_envs_menu_present": true,
   "autoclose": false,
   "autocomplete": true,
   "bibliofile": "biblio.bib",
   "cite_by": "apalike",
   "current_citInitial": 1,
   "eqLabelWithNumbers": true,
   "eqNumInitial": 1,
   "hotkeys": {
    "equation": "Ctrl-E",
    "itemize": "Ctrl-I"
   },
   "labels_anchors": false,
   "latex_user_defs": false,
   "report_style_numbering": false,
   "user_envs_cfg": false
  }
 },
 "nbformat": 4,
 "nbformat_minor": 4
}
